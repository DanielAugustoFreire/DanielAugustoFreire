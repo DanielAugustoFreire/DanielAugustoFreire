{
  "nbformat": 4,
  "nbformat_minor": 0,
  "metadata": {
    "colab": {
      "provenance": [],
      "authorship_tag": "ABX9TyMLyhvSBq7sw2g0JHOUHPgG",
      "include_colab_link": true
    },
    "kernelspec": {
      "name": "ir",
      "display_name": "R"
    },
    "language_info": {
      "name": "R"
    }
  },
  "cells": [
    {
      "cell_type": "markdown",
      "metadata": {
        "id": "view-in-github",
        "colab_type": "text"
      },
      "source": [
        "<a href=\"https://colab.research.google.com/github/DanielAugustoFreire/DanielAugustoFreire/blob/main/Untitled1.ipynb\" target=\"_parent\"><img src=\"https://colab.research.google.com/assets/colab-badge.svg\" alt=\"Open In Colab\"/></a>"
      ]
    },
    {
      "cell_type": "code",
      "source": [
        "library(dplyr)"
      ],
      "metadata": {
        "id": "T0-rVcUjmN6Q",
        "collapsed": true
      },
      "execution_count": 42,
      "outputs": []
    },
    {
      "cell_type": "code",
      "execution_count": 4,
      "metadata": {
        "id": "u9BYAEcxjN_E"
      },
      "outputs": [],
      "source": [
        "senado <- read.csv(\"senado.csv\")"
      ]
    },
    {
      "cell_type": "code",
      "source": [
        "senado"
      ],
      "metadata": {
        "id": "sfrt9uZsWVb_",
        "colab": {
          "base_uri": "https://localhost:8080/",
          "height": 1000
        },
        "outputId": "8e076cee-8122-4e8a-98c8-469304c719f0",
        "collapsed": true
      },
      "execution_count": 7,
      "outputs": [
        {
          "output_type": "display_data",
          "data": {
            "text/html": [
              "<table class=\"dataframe\">\n",
              "<caption>A data.frame: 54 × 36</caption>\n",
              "<thead>\n",
              "\t<tr><th scope=col>id</th><th scope=col>tabela</th><th scope=col>slug</th><th scope=col>nomeUrna</th><th scope=col>numero</th><th scope=col>idCandidatoSuperior</th><th scope=col>nomeCompleto</th><th scope=col>descricaoSexo</th><th scope=col>dataDeNascimento</th><th scope=col>tituloEleitor</th><th scope=col>⋯</th><th scope=col>fotoDataUltimaAtualizacao</th><th scope=col>descricaoTotalizacao</th><th scope=col>nomeColigacao</th><th scope=col>composicaoColigacao</th><th scope=col>cargo_codigo</th><th scope=col>cargo_nome</th><th scope=col>partido_numero</th><th scope=col>partido_sigla</th><th scope=col>partido_nome</th><th scope=col>descricaoSituacaoCandidato</th></tr>\n",
              "\t<tr><th scope=col>&lt;dbl&gt;</th><th scope=col>&lt;chr&gt;</th><th scope=col>&lt;chr&gt;</th><th scope=col>&lt;chr&gt;</th><th scope=col>&lt;int&gt;</th><th scope=col>&lt;dbl&gt;</th><th scope=col>&lt;chr&gt;</th><th scope=col>&lt;chr&gt;</th><th scope=col>&lt;chr&gt;</th><th scope=col>&lt;dbl&gt;</th><th scope=col>⋯</th><th scope=col>&lt;lgl&gt;</th><th scope=col>&lt;chr&gt;</th><th scope=col>&lt;chr&gt;</th><th scope=col>&lt;chr&gt;</th><th scope=col>&lt;int&gt;</th><th scope=col>&lt;chr&gt;</th><th scope=col>&lt;int&gt;</th><th scope=col>&lt;chr&gt;</th><th scope=col>&lt;chr&gt;</th><th scope=col>&lt;chr&gt;</th></tr>\n",
              "</thead>\n",
              "<tbody>\n",
              "\t<tr><td> 10000603058</td><td>senador</td><td>petecao                      </td><td>PETECÃO                      </td><td>555</td><td>           0</td><td>SÉRGIO DE OLIVEIRA CUNHA               </td><td>MASC.</td><td>1960-04-20</td><td>   825962445</td><td>⋯</td><td>NA</td><td>Eleito</td><td>MUDANÇA E COMPETÊNCIA                            </td><td>PP / MDB / PSDB / DEM / PSD / PTB / PMN / SOLIDARIEDADE / PTC / PR / PPS                                                 </td><td>5</td><td>Senador</td><td>55</td><td>PSD          </td><td>Partido Social Democrático             </td><td>APTO</td></tr>\n",
              "\t<tr><td> 10000603061</td><td>senador</td><td>marcio-bittar                </td><td>MÁRCIO BITTAR                </td><td>151</td><td>           0</td><td>MARCIO MIGUEL BITTAR                   </td><td>MASC.</td><td>1963-06-28</td><td>   259632429</td><td>⋯</td><td>NA</td><td>Eleito</td><td>MUDANÇA E COMPETÊNCIA                            </td><td>PP / MDB / PSDB / DEM / PSD / PTB / PMN / SOLIDARIEDADE / PTC / PR / PPS                                                 </td><td>5</td><td>Senador</td><td>15</td><td>MDB          </td><td>Movimento Democrático Brasileiro       </td><td>APTO</td></tr>\n",
              "\t<tr><td> 20000616686</td><td>senador</td><td>rodrigo-cunha                </td><td>RODRIGO CUNHA                </td><td>456</td><td>           0</td><td>RODRIGO SANTOS CUNHA                   </td><td>MASC.</td><td>1981-05-11</td><td> 27208171767</td><td>⋯</td><td>NA</td><td>Eleito</td><td>Alagoas com o Povo                               </td><td>PTC / PSDB / PP / PSB / PSC / PROS / PRB / DEM                                                                           </td><td>5</td><td>Senador</td><td>45</td><td>PSDB         </td><td>Partido da Social Democracia Brasileira</td><td>APTO</td></tr>\n",
              "\t<tr><td> 20000621738</td><td>senador</td><td>renan                        </td><td>RENAN                        </td><td>151</td><td>           0</td><td>JOSÉ RENAN VASCONCELOS CALHEIROS       </td><td>MASC.</td><td>1955-09-16</td><td>  5448401791</td><td>⋯</td><td>NA</td><td>Eleito</td><td>Avança Mais Alagoas                              </td><td>MDB / PODE / PPS / PDT / PR / PTB / PHS / PT / PV / PRP / PRTB / PSD / DC / PC do B / AVANTE / PMN / SOLIDARIEDADE       </td><td>5</td><td>Senador</td><td>15</td><td>MDB          </td><td>Movimento Democrático Brasileiro       </td><td>APTO</td></tr>\n",
              "\t<tr><td> 30000607892</td><td>senador</td><td>lucas-barreto                </td><td>LUCAS BARRETO                </td><td>147</td><td>           0</td><td>LUIZ CANTUÁRIA BARRETO                 </td><td>MASC.</td><td>1964-11-10</td><td>    89892534</td><td>⋯</td><td>NA</td><td>Eleito</td><td>PTB                                              </td><td>**                                                                                                                       </td><td>5</td><td>Senador</td><td>14</td><td>PTB          </td><td>Partido Trabalhista Brasileiro         </td><td>APTO</td></tr>\n",
              "\t<tr><td> 30000620104</td><td>senador</td><td>randolfe                     </td><td>RANDOLFE                     </td><td>180</td><td>           0</td><td>RANDOLPH FREDERICH RODRIGUES ALVES     </td><td>MASC.</td><td>1972-11-06</td><td>  1331132526</td><td>⋯</td><td>NA</td><td>Eleito</td><td>TRABALHO E UNIÃO PELO AMAPÁ                      </td><td>DEM / REDE / PSDB / PPL / PP / PSC / AVANTE / PSD / PODE / SOLIDARIEDADE                                                 </td><td>5</td><td>Senador</td><td>18</td><td>REDE         </td><td>Rede Sustentabilidade                  </td><td>APTO</td></tr>\n",
              "\t<tr><td> 40000603706</td><td>senador</td><td>plinio-valerio               </td><td>PLINIO VALERIO               </td><td>455</td><td>           0</td><td>FRANCISCO PLINIO VALERIO TOMAZ         </td><td>MASC.</td><td>1955-01-31</td><td>   854162267</td><td>⋯</td><td>NA</td><td>Eleito</td><td>AMAZONAS COM SEGURANÇA                           </td><td>PSD / PSDB / DEM / PRB / PTC / PATRI                                                                                     </td><td>5</td><td>Senador</td><td>45</td><td>PSDB         </td><td>Partido da Social Democracia Brasileira</td><td>APTO</td></tr>\n",
              "\t<tr><td> 40000618261</td><td>senador</td><td>eduardo-braga                </td><td>EDUARDO BRAGA                </td><td>155</td><td>           0</td><td>CARLOS EDUARDO DE SOUZA BRAGA          </td><td>MASC.</td><td>1960-12-06</td><td>  2430682216</td><td>⋯</td><td>NA</td><td>Eleito</td><td>MDB                                              </td><td>**                                                                                                                       </td><td>5</td><td>Senador</td><td>15</td><td>MDB          </td><td>Movimento Democrático Brasileiro       </td><td>APTO</td></tr>\n",
              "\t<tr><td> 50000607712</td><td>senador</td><td>jaques-wagner                </td><td>JAQUES WAGNER                </td><td>130</td><td> 50000620039</td><td>JAQUES WAGNER                          </td><td>MASC.</td><td>1951-03-16</td><td> 38496250590</td><td>⋯</td><td>NA</td><td>Eleito</td><td>MAIS TRABALHO POR TODA A BAHIA                   </td><td>PT / PP / PDT / PSD / PSB / PC do B / PR / PMB / PRP / PODE / AVANTE / PMN / PROS / PTC                                  </td><td>5</td><td>Senador</td><td>13</td><td>PT           </td><td>Partido dos Trabalhadores              </td><td>APTO</td></tr>\n",
              "\t<tr><td> 50000607716</td><td>senador</td><td>angelo-coronel               </td><td>ANGELO CORONEL               </td><td>555</td><td> 50000620038</td><td>ANGELO MARIO CORONEL DE AZEVEDO MARTINS</td><td>MASC.</td><td>1958-05-03</td><td> 30402880531</td><td>⋯</td><td>NA</td><td>Eleito</td><td>MAIS TRABALHO POR TODA A BAHIA                   </td><td>PT / PP / PDT / PSD / PSB / PC do B / PR / PMB / PRP / PODE / AVANTE / PMN / PROS / PTC                                  </td><td>5</td><td>Senador</td><td>55</td><td>PSD          </td><td>Partido Social Democrático             </td><td>APTO</td></tr>\n",
              "\t<tr><td> 60000610981</td><td>senador</td><td>cid-gomes                    </td><td>CID GOMES                    </td><td>123</td><td>           0</td><td>CID FERREIRA GOMES                     </td><td>MASC.</td><td>1963-04-27</td><td>  9288930779</td><td>⋯</td><td>NA</td><td>Eleito</td><td>POR UM CEARA CADA VEZ MAIS FORTE                 </td><td>PT / PDT / PP / PSB / PR / PTB / DEM / PC do B / PPS / PRP / PV / PMN / PPL / PATRI / PRTB / PMB                         </td><td>5</td><td>Senador</td><td>12</td><td>PDT          </td><td>Partido Democrático Trabalhista        </td><td>APTO</td></tr>\n",
              "\t<tr><td> 60000611597</td><td>senador</td><td>eduardo-girao                </td><td>EDUARDO GIRÃO                </td><td>900</td><td>           0</td><td>LUIS EDUARDO GRANGEIRO GIRÃO           </td><td>MASC.</td><td>1972-09-25</td><td> 33294250795</td><td>⋯</td><td>NA</td><td>Eleito</td><td>TÁ NA HORA DE MUDAR                              </td><td>PSDB / PROS                                                                                                              </td><td>5</td><td>Senador</td><td>90</td><td>PROS         </td><td>Partido Republicano da Ordem Social    </td><td>APTO</td></tr>\n",
              "\t<tr><td> 70000614410</td><td>senador</td><td>leila-do-volei               </td><td>LEILA DO VÔLEI               </td><td>408</td><td>           0</td><td>LEILA GOMES DE BARROS RÊGO             </td><td>FEM. </td><td>1971-09-30</td><td> 99971460213</td><td>⋯</td><td>NA</td><td>Eleito</td><td>Brasília de Mãos Limpas                          </td><td>PSB / PV / PC do B / PDT / REDE                                                                                          </td><td>5</td><td>Senador</td><td>40</td><td>PSB          </td><td>Partido Socialista Brasileiro          </td><td>APTO</td></tr>\n",
              "\t<tr><td> 70000625515</td><td>senador</td><td>izalci                       </td><td>IZALCI                       </td><td>456</td><td>           0</td><td>IZALCI LUCAS FERREIRA                  </td><td>MASC.</td><td>1956-04-07</td><td>  6274332011</td><td>⋯</td><td>NA</td><td>Eleito</td><td>CORAGEM E RESPEITO PELO POVO                     </td><td>PR / PSDB / DEM / DC                                                                                                     </td><td>5</td><td>Senador</td><td>45</td><td>PSDB         </td><td>Partido da Social Democracia Brasileira</td><td>APTO</td></tr>\n",
              "\t<tr><td> 80000612948</td><td>senador</td><td>fabiano-contarato            </td><td>FABIANO CONTARATO            </td><td>181</td><td>           0</td><td>FABIANO CONTARATO                      </td><td>MASC.</td><td>1966-06-20</td><td>  8234071481</td><td>⋯</td><td>NA</td><td>Eleito</td><td>UM NOVO CAMINHO PARA O ESPÍRITO SANTO            </td><td>PRTB / REDE / PODE / MDB / PMN / PATRI                                                                                   </td><td>5</td><td>Senador</td><td>18</td><td>REDE         </td><td>Rede Sustentabilidade                  </td><td>APTO</td></tr>\n",
              "\t<tr><td> 80000625508</td><td>senador</td><td>marcos-do-val                </td><td>MARCOS DO VAL                </td><td>234</td><td>           0</td><td>MARCOS RIBEIRO DO VAL                  </td><td>MASC.</td><td>1971-06-15</td><td> 14071901481</td><td>⋯</td><td>NA</td><td>Eleito</td><td>ESPIRITO SANTO MAIS IGUAL                        </td><td>PSB / PHS / PROS / PV / PSC / AVANTE / PTC / PPS / PSDB / DEM / PDT / PP / PC do B / PPL / DC / SOLIDARIEDADE / PRP / PSD</td><td>5</td><td>Senador</td><td>23</td><td>PPS          </td><td>Partido Popular Socialista             </td><td>APTO</td></tr>\n",
              "\t<tr><td> 90000609234</td><td>senador</td><td>vanderlan                    </td><td>VANDERLAN                    </td><td>111</td><td>           0</td><td>VANDERLAN VIEIRA CARDOSO               </td><td>MASC.</td><td>1962-11-15</td><td>  1300232674</td><td>⋯</td><td>NA</td><td>Eleito</td><td>NOVAS IDEIAS NOVO GOIÁS                          </td><td>MDB / PRB / PHS / PP                                                                                                     </td><td>5</td><td>Senador</td><td>11</td><td>PP           </td><td>Partido Progressista                   </td><td>APTO</td></tr>\n",
              "\t<tr><td> 90000613472</td><td>senador</td><td>jorge-kajuru                 </td><td>JORGE KAJURU                 </td><td>444</td><td>           0</td><td>JORGE KAJURU REIS DA COSTA NASSER      </td><td>MASC.</td><td>1961-01-20</td><td> 37777141090</td><td>⋯</td><td>NA</td><td>Eleito</td><td>A MUDANÇA É AGORA                                </td><td>DEM / PRP / PROS / PMN / PMB / PSC / DC / PSL / PODE / PTC / PRTB / PDT                                                  </td><td>5</td><td>Senador</td><td>44</td><td>PRP          </td><td>Partido Republicano Progressista       </td><td>APTO</td></tr>\n",
              "\t<tr><td>100000603920</td><td>senador</td><td>weverton                     </td><td>WEVERTON                     </td><td>123</td><td>           0</td><td>WEVERTON ROCHA MARQUES DE SOUSA        </td><td>MASC.</td><td>1979-10-08</td><td> 33785831104</td><td>⋯</td><td>NA</td><td>Eleito</td><td>TODOS PELO MARANHÃO                              </td><td>PC do B / PRB / PDT / PPS / DEM / PSB / PR / PP / PROS / PT / PTB / PATRI / PTC / SOLIDARIEDADE / PPL / AVANTE           </td><td>5</td><td>Senador</td><td>12</td><td>PDT          </td><td>Partido Democrático Trabalhista        </td><td>APTO</td></tr>\n",
              "\t<tr><td>100000603923</td><td>senador</td><td>eliziane-gama                </td><td>ELIZIANE GAMA                </td><td>232</td><td>           0</td><td>ELIZIANE PEREIRA GAMA MELO             </td><td>FEM. </td><td>1977-02-27</td><td> 31142001112</td><td>⋯</td><td>NA</td><td>Eleito</td><td>TODOS PELO MARANHÃO                              </td><td>PC do B / PRB / PDT / PPS / DEM / PSB / PR / PP / PROS / PT / PTB / PATRI / PTC / SOLIDARIEDADE / PPL / AVANTE           </td><td>5</td><td>Senador</td><td>23</td><td>PPS          </td><td>Partido Popular Socialista             </td><td>APTO</td></tr>\n",
              "\t<tr><td>110000612714</td><td>senador</td><td>jayme-campos                 </td><td>JAYME CAMPOS                 </td><td>251</td><td>           0</td><td>JAYME VERISSIMO DE CAMPOS              </td><td>MASC.</td><td>1951-09-13</td><td>  8104391856</td><td>⋯</td><td>NA</td><td>Eleito</td><td>PRA MUDAR MATO GROSSO                            </td><td>DEM / PSD / PDT / PSC / MDB / PMB / PHS / PTC                                                                            </td><td>5</td><td>Senador</td><td>25</td><td>DEM          </td><td>Democratas                             </td><td>APTO</td></tr>\n",
              "\t<tr><td>110000613185</td><td>senador</td><td>juiza-selma-arruda           </td><td>JUIZA SELMA ARRUDA           </td><td>170</td><td>           0</td><td>SELMA ROSANE SANTOS ARRUDA             </td><td>FEM. </td><td>1963-01-20</td><td>  3174701805</td><td>⋯</td><td>NA</td><td>Eleito</td><td>COLIGAÇÃO SEGUE EM FRENTE MATO GROSSO            </td><td>PSL / PPS / PSB / DC / PRP / PSDB / PATRI / AVANTE / SOLIDARIEDADE                                                       </td><td>5</td><td>Senador</td><td>17</td><td>PSL          </td><td>Partido Social Liberal                 </td><td>APTO</td></tr>\n",
              "\t<tr><td>120000606866</td><td>senador</td><td>nelsinho-trad                </td><td>NELSINHO TRAD                </td><td>144</td><td>           0</td><td>NELSON TRAD FILHO                      </td><td>MASC.</td><td>1961-09-05</td><td>  3230671988</td><td>⋯</td><td>NA</td><td>Eleito</td><td>AVANÇAR COM RESPONSABILIDADE                     </td><td>PMN / DEM / PP / PSB / PTB / PSDB / PATRI / PSD / PPS / AVANTE / SOLIDARIEDADE / PROS                                    </td><td>5</td><td>Senador</td><td>14</td><td>PTB          </td><td>Partido Trabalhista Brasileiro         </td><td>APTO</td></tr>\n",
              "\t<tr><td>120000623873</td><td>senador</td><td>soraya-thronicke             </td><td>SORAYA THRONICKE             </td><td>177</td><td>           0</td><td>SORAYA VIEIRA THRONICKE                </td><td>FEM. </td><td>1973-06-01</td><td> 13250921929</td><td>⋯</td><td>NA</td><td>Eleito</td><td>PSL                                              </td><td>**                                                                                                                       </td><td>5</td><td>Senador</td><td>17</td><td>PSL          </td><td>Partido Social Liberal                 </td><td>APTO</td></tr>\n",
              "\t<tr><td>130000604556</td><td>senador</td><td>rodrigo-pacheco              </td><td>RODRIGO PACHECO              </td><td>250</td><td>           0</td><td>RODRIGO OTÁVIO SOARES PACHECO          </td><td>MASC.</td><td>1976-11-03</td><td>114662440248</td><td>⋯</td><td>NA</td><td>Eleito</td><td>RECONSTRUIR MINAS                                </td><td>PSDB / PSD / SOLIDARIEDADE / PTB / PPS / PMN / PSC / DEM / PP / PTC / PATRI / PMB                                        </td><td>5</td><td>Senador</td><td>25</td><td>DEM          </td><td>Democratas                             </td><td>APTO</td></tr>\n",
              "\t<tr><td>130000612381</td><td>senador</td><td>jornalista-carlos-viana      </td><td>JORNALISTA CARLOS VIANA      </td><td>310</td><td>           0</td><td>CARLOS ALBERTO DIAS VIANA              </td><td>MASC.</td><td>1963-03-22</td><td> 92829170213</td><td>⋯</td><td>NA</td><td>Eleito</td><td>PHS                                              </td><td>**                                                                                                                       </td><td>5</td><td>Senador</td><td>31</td><td>PHS          </td><td>Partido Humanista da Solidariedade     </td><td>APTO</td></tr>\n",
              "\t<tr><td>140000621333</td><td>senador</td><td>jader-barbalho               </td><td>JADER BARBALHO               </td><td>151</td><td>           0</td><td>JADER FONTENELLE BARBALHO              </td><td>MASC.</td><td>1944-10-27</td><td> 12453171309</td><td>⋯</td><td>NA</td><td>Eleito</td><td>O PARÁ DAQUI PRA FRENTE                          </td><td>MDB / PP / PRB / PR / PSC / PTB / PHS / PMB / PODE / DC / PTC / PATRI / PSD / AVANTE / PSL / PROS                        </td><td>5</td><td>Senador</td><td>15</td><td>MDB          </td><td>Movimento Democrático Brasileiro       </td><td>APTO</td></tr>\n",
              "\t<tr><td>140000621337</td><td>senador</td><td>zequinha-marinho             </td><td>ZEQUINHA MARINHO             </td><td>200</td><td>           0</td><td>JOSÉ DA CRUZ MARINHO                   </td><td>MASC.</td><td>1959-09-18</td><td>  8226021341</td><td>⋯</td><td>NA</td><td>Eleito</td><td>O PARÁ DAQUI PRA FRENTE                          </td><td>MDB / PP / PRB / PR / PSC / PTB / PHS / PMB / PODE / DC / PTC / PATRI / PSD / AVANTE / PSL / PROS                        </td><td>5</td><td>Senador</td><td>20</td><td>PSC          </td><td>Partido Social Cristão                 </td><td>APTO</td></tr>\n",
              "\t<tr><td>150000603510</td><td>senador</td><td>veneziano                    </td><td>VENEZIANO                    </td><td>400</td><td>           0</td><td>VENEZIANO VITAL DO RÊGO SEGUNDO NETO   </td><td>MASC.</td><td>1970-07-17</td><td> 16146621201</td><td>⋯</td><td>NA</td><td>Eleito</td><td>A FORÇA DO TRABALHO                              </td><td>PSB / PDT / PT / DEM / PTB / PRP / PODE / PRB / PC do B / AVANTE / PPS / REDE / PMN / PROS                               </td><td>5</td><td>Senador</td><td>40</td><td>PSB          </td><td>Partido Socialista Brasileiro          </td><td>APTO</td></tr>\n",
              "\t<tr><td>150000615600</td><td>senador</td><td>daniella-ribeiro             </td><td>DANIELLA RIBEIRO             </td><td>111</td><td>           0</td><td>DANIELLA VELLOSO BORGES RIBEIRO        </td><td>FEM. </td><td>1972-03-26</td><td> 18882051260</td><td>⋯</td><td>NA</td><td>Eleito</td><td>Força da Esperança                               </td><td>PV / PSDB / PP / PSD / PSC / SOLIDARIEDADE / DC / PRTB / PHS / PTC / PSL / PPL                                           </td><td>5</td><td>Senador</td><td>11</td><td>PP           </td><td>Partido Progressista                   </td><td>APTO</td></tr>\n",
              "\t<tr><td>160000609227</td><td>senador</td><td>professor-oriovisto-guimaraes</td><td>PROFESSOR ORIOVISTO GUIMARAES</td><td>191</td><td>           0</td><td>ORIOVISTO GUIMARAES                    </td><td>MASC.</td><td>1945-08-12</td><td>   655290655</td><td>⋯</td><td>NA</td><td>Eleito</td><td>PARANA INOVADOR                                  </td><td>PSD / PSC / PV / PR / PRB / PHS / PPS / PODE / AVANTE                                                                    </td><td>5</td><td>Senador</td><td>19</td><td>PODE         </td><td>Podemos                                </td><td>APTO</td></tr>\n",
              "\t<tr><td>160000609967</td><td>senador</td><td>flavio-arns                  </td><td>FLAVIO ARNS                  </td><td>181</td><td>           0</td><td>FLAVIO JOSE ARNS                       </td><td>MASC.</td><td>1950-11-09</td><td>  4675000620</td><td>⋯</td><td>NA</td><td>Eleito</td><td>Coligação do bem e da verdade para mudar o Paraná</td><td>REDE / DC / PPL                                                                                                          </td><td>5</td><td>Senador</td><td>18</td><td>REDE         </td><td>Rede Sustentabilidade                  </td><td>APTO</td></tr>\n",
              "\t<tr><td>170000604548</td><td>senador</td><td>humberto-costa               </td><td>HUMBERTO COSTA               </td><td>130</td><td>           0</td><td>HUMBERTO SÉRGIO COSTA LIMA             </td><td>MASC.</td><td>1957-07-07</td><td>  5504040809</td><td>⋯</td><td>NA</td><td>Eleito</td><td>FRENTE POPULAR DE PERNAMBUCO                     </td><td>PSB / PC do B / PT / MDB / PP / PR / PMN / PTC / PRP / PATRI / PSD / PPL / SOLIDARIEDADE                                 </td><td>5</td><td>Senador</td><td>13</td><td>PT           </td><td>Partido dos Trabalhadores              </td><td>APTO</td></tr>\n",
              "\t<tr><td>170000604551</td><td>senador</td><td>jarbas                       </td><td>JARBAS                       </td><td>156</td><td>           0</td><td>JARBAS DE ANDRADE VASCONCELOS          </td><td>MASC.</td><td>1942-08-23</td><td>  3358090876</td><td>⋯</td><td>NA</td><td>Eleito</td><td>FRENTE POPULAR DE PERNAMBUCO                     </td><td>PSB / PC do B / PT / MDB / PP / PR / PMN / PTC / PRP / PATRI / PSD / PPL / SOLIDARIEDADE                                 </td><td>5</td><td>Senador</td><td>15</td><td>MDB          </td><td>Movimento Democrático Brasileiro       </td><td>APTO</td></tr>\n",
              "\t<tr><td>180000614004</td><td>senador</td><td>ciro-nogueira                </td><td>CIRO NOGUEIRA                </td><td>111</td><td>180000613920</td><td>CIRO NOGUEIRA LIMA FILHO               </td><td>MASC.</td><td>1968-11-21</td><td> 20499931503</td><td>⋯</td><td>NA</td><td>Eleito</td><td>A Vitória Com a Força do Povo                    </td><td>PT / MDB / PP / PR / PDT / PSD / PC do B / PTB / PRTB                                                                    </td><td>5</td><td>Senador</td><td>11</td><td>PP           </td><td>Partido Progressista                   </td><td>APTO</td></tr>\n",
              "\t<tr><td>180000614005</td><td>senador</td><td>marcelo-castro               </td><td>MARCELO CASTRO               </td><td>151</td><td>180000613904</td><td>MARCELO COSTA E CASTRO                 </td><td>MASC.</td><td>1950-06-09</td><td>   123561503</td><td>⋯</td><td>NA</td><td>Eleito</td><td>A Vitória Com a Força do Povo                    </td><td>PT / MDB / PP / PR / PDT / PSD / PC do B / PTB / PRTB                                                                    </td><td>5</td><td>Senador</td><td>15</td><td>MDB          </td><td>Movimento Democrático Brasileiro       </td><td>APTO</td></tr>\n",
              "\t<tr><td>190000607913</td><td>senador</td><td>arolde-de-oliveira           </td><td>AROLDE DE OLIVEIRA           </td><td>555</td><td>           0</td><td>AROLDE DE OLIVEIRA                     </td><td>MASC.</td><td>1937-03-11</td><td>  2597020302</td><td>⋯</td><td>NA</td><td>Eleito</td><td>PSD                                              </td><td>**                                                                                                                       </td><td>5</td><td>Senador</td><td>55</td><td>PSD          </td><td>Partido Social Democrático             </td><td>APTO</td></tr>\n",
              "\t<tr><td>190000614721</td><td>senador</td><td>flavio-bolsonaro             </td><td>FLÁVIO BOLSONARO             </td><td>177</td><td>           0</td><td>FLÁVIO NANTES BOLSONARO                </td><td>MASC.</td><td>1981-04-30</td><td>108563260302</td><td>⋯</td><td>NA</td><td>Eleito</td><td>PSL                                              </td><td>**                                                                                                                       </td><td>5</td><td>Senador</td><td>17</td><td>PSL          </td><td>Partido Social Liberal                 </td><td>APTO</td></tr>\n",
              "\t<tr><td>200000606729</td><td>senador</td><td>dr-zenaide-maia              </td><td>DRª ZENAIDE MAIA             </td><td>313</td><td>           0</td><td>ZENAIDE MAIA CALADO PEREIRA DOS SANTOS </td><td>FEM. </td><td>1954-11-27</td><td>  1224541694</td><td>⋯</td><td>NA</td><td>Eleito</td><td>DO LADO CERTO                                    </td><td>PT / PC do B / PHS                                                                                                       </td><td>5</td><td>Senador</td><td>31</td><td>PHS          </td><td>Partido Humanista da Solidariedade     </td><td>APTO</td></tr>\n",
              "\t<tr><td>200000626720</td><td>senador</td><td>capitao-styvenson            </td><td>CAPITÃO STYVENSON            </td><td>180</td><td>           0</td><td>EANN STYVENSON VALENTIM MENDES         </td><td>MASC.</td><td>1977-02-07</td><td> 18759881627</td><td>⋯</td><td>NA</td><td>Eleito</td><td>REDE                                             </td><td>**                                                                                                                       </td><td>5</td><td>Senador</td><td>18</td><td>REDE         </td><td>Rede Sustentabilidade                  </td><td>APTO</td></tr>\n",
              "\t<tr><td>210000606445</td><td>senador</td><td>paulo-paim                   </td><td>PAULO PAIM                   </td><td>131</td><td>           0</td><td>PAULO RENATO PAIM                      </td><td>MASC.</td><td>1950-03-15</td><td> 32745760418</td><td>⋯</td><td>NA</td><td>Eleito</td><td>POR UM RIO GRANDE JUSTO                          </td><td>PT / PC do B                                                                                                             </td><td>5</td><td>Senador</td><td>13</td><td>PT           </td><td>Partido dos Trabalhadores              </td><td>APTO</td></tr>\n",
              "\t<tr><td>210000622364</td><td>senador</td><td>luis-carlos-heinze           </td><td>LUIS CARLOS HEINZE           </td><td>111</td><td>           0</td><td>LUIS CARLOS HEINZE                     </td><td>MASC.</td><td>1950-09-14</td><td>  9353970469</td><td>⋯</td><td>NA</td><td>Eleito</td><td>RIO GRANDE DA GENTE                              </td><td>PSDB / PTB / PRB / PPS / PHS / REDE / PP                                                                                 </td><td>5</td><td>Senador</td><td>11</td><td>PP           </td><td>Partido Progressista                   </td><td>APTO</td></tr>\n",
              "\t<tr><td>220000609853</td><td>senador</td><td>marcos-rogerio               </td><td>MARCOS ROGÉRIO               </td><td>255</td><td>           0</td><td>MARCOS ROGÉRIO DA SILVA BRITO          </td><td>MASC.</td><td>1978-07-07</td><td>  9557492305</td><td>⋯</td><td>NA</td><td>Eleito</td><td>RONDÔNIA, ESPERANÇA DE UM NOVO TEMPO             </td><td>PSDB / DEM / PSD / PRB / PATRI                                                                                           </td><td>5</td><td>Senador</td><td>25</td><td>DEM          </td><td>Democratas                             </td><td>APTO</td></tr>\n",
              "\t<tr><td>220000618467</td><td>senador</td><td>confucio-moura               </td><td>CONFUCIO MOURA               </td><td>152</td><td>           0</td><td>CONFUCIO AIRES MOURA                   </td><td>MASC.</td><td>1948-05-16</td><td>  2025122348</td><td>⋯</td><td>NA</td><td>Eleito</td><td>RONDONIA, UNIDOS SOMOS FORTES                    </td><td>MDB / PODE / PMN / PSC / PC do B / PHS / PROS / PV                                                                       </td><td>5</td><td>Senador</td><td>15</td><td>MDB          </td><td>Movimento Democrático Brasileiro       </td><td>APTO</td></tr>\n",
              "\t<tr><td>230000601673</td><td>senador</td><td>chico-rodrigues              </td><td>CHICO RODRIGUES              </td><td>255</td><td>           0</td><td>FRANCISCO DE ASSIS RODRIGUES           </td><td>MASC.</td><td>1951-04-23</td><td>    27052674</td><td>⋯</td><td>NA</td><td>Eleito</td><td>TODOS POR RORAIMA                                </td><td>PSDB / DEM / MDB / PSD / PPS / SOLIDARIEDADE / DC                                                                        </td><td>5</td><td>Senador</td><td>25</td><td>DEM          </td><td>Democratas                             </td><td>APTO</td></tr>\n",
              "\t<tr><td>230000609420</td><td>senador</td><td>mecias-de-jesus              </td><td>MECIAS DE JESUS              </td><td>107</td><td>           0</td><td>ANTÔNIO MECIAS PEREIRA DE JESUS        </td><td>MASC.</td><td>1962-02-08</td><td>    92352658</td><td>⋯</td><td>NA</td><td>Eleito</td><td>AGORA É RORAIMA COM TUDO                         </td><td>PSL / PRB / PTC / PRP / PROS / PSC / PPL / PATRI                                                                         </td><td>5</td><td>Senador</td><td>10</td><td>PRB          </td><td>Partido Republicano Brasileiro         </td><td>APTO</td></tr>\n",
              "\t<tr><td>240000609539</td><td>senador</td><td>jorginho-mello               </td><td>JORGINHO MELLO               </td><td>222</td><td>           0</td><td>JORGINHO DOS SANTOS MELLO              </td><td>MASC.</td><td>1956-07-15</td><td>  7894870922</td><td>⋯</td><td>NA</td><td>Eleito</td><td>SANTA CATARINA QUER MAIS                         </td><td>MDB / AVANTE / PSDB / PTB / PTC / PRTB / DC / PR / PPS                                                                   </td><td>5</td><td>Senador</td><td>22</td><td>PR           </td><td>Partido da República                   </td><td>APTO</td></tr>\n",
              "\t<tr><td>240000621326</td><td>senador</td><td>esperidiao-amin              </td><td>ESPERIDIÃO AMIN              </td><td>111</td><td>           0</td><td>ESPERIDIÃO AMIN HELOU FILHO            </td><td>MASC.</td><td>1947-12-21</td><td>  5399180914</td><td>⋯</td><td>NA</td><td>Eleito</td><td>AQUI É TRABALHO                                  </td><td>PSD / PRB / PDT / PSB / PODE / SOLIDARIEDADE / PROS / PSC / PC do B / PHS / PP / DEM / PRP / PPL / PV                    </td><td>5</td><td>Senador</td><td>11</td><td>PP           </td><td>Partido Progressista                   </td><td>APTO</td></tr>\n",
              "\t<tr><td>250000612593</td><td>senador</td><td>mara-gabrilli                </td><td>MARA GABRILLI                </td><td>457</td><td>           0</td><td>MARA CRISTINA GABRILLI                 </td><td>FEM. </td><td>1967-09-28</td><td>100632050108</td><td>⋯</td><td>NA</td><td>Eleito</td><td>AceleraSP                                        </td><td>PSDB / DEM / PSD / PRB / PP / PTC                                                                                        </td><td>5</td><td>Senador</td><td>45</td><td>PSDB         </td><td>Partido da Social Democracia Brasileira</td><td>APTO</td></tr>\n",
              "\t<tr><td>250000615466</td><td>senador</td><td>major-olimpio                </td><td>MAJOR OLIMPIO                </td><td>177</td><td>           0</td><td>SERGIO OLIMPIO GOMES                   </td><td>MASC.</td><td>1962-03-20</td><td> 83386310191</td><td>⋯</td><td>NA</td><td>Eleito</td><td>SÃO PAULO ACIMA DE TUDO, DEUS ACIMA DE TODOS     </td><td>PRTB / PSL                                                                                                               </td><td>5</td><td>Senador</td><td>17</td><td>PSL          </td><td>Partido Social Liberal                 </td><td>APTO</td></tr>\n",
              "\t<tr><td>260000601810</td><td>senador</td><td>delegado-alessandro-vieira   </td><td>DELEGADO ALESSANDRO VIEIRA   </td><td>181</td><td>           0</td><td>ALESSANDRO VIEIRA                      </td><td>MASC.</td><td>1975-04-03</td><td> 18291022135</td><td>⋯</td><td>NA</td><td>Eleito</td><td>REDE                                             </td><td>**                                                                                                                       </td><td>5</td><td>Senador</td><td>18</td><td>REDE         </td><td>Rede Sustentabilidade                  </td><td>APTO</td></tr>\n",
              "\t<tr><td>260000623617</td><td>senador</td><td>rogerio-carvalho-santos      </td><td>ROGERIO CARVALHO SANTOS      </td><td>131</td><td>           0</td><td>ROGERIO CARVALHO SANTOS                </td><td>MASC.</td><td>1968-08-02</td><td>173753480159</td><td>⋯</td><td>NA</td><td>Eleito</td><td>PRA SERGIPE AVANÇAR                              </td><td>PP / MDB / DC / PC do B / PSD / PT / PHS                                                                                 </td><td>5</td><td>Senador</td><td>13</td><td>PT           </td><td>Partido dos Trabalhadores              </td><td>APTO</td></tr>\n",
              "\t<tr><td>270000626087</td><td>senador</td><td>iraja                        </td><td>IRAJÁ                        </td><td>555</td><td>           0</td><td>IRAJÁ SILVESTRE FILHO                  </td><td>MASC.</td><td>1983-02-03</td><td> 36229682771</td><td>⋯</td><td>NA</td><td>Eleito</td><td>Coligação Frente Alternativa                     </td><td>REDE / PRTB / PTB / PC do B / PT / PV / PDT / PSD                                                                        </td><td>5</td><td>Senador</td><td>55</td><td>PSD          </td><td>Partido Social Democrático             </td><td>APTO</td></tr>\n",
              "\t<tr><td>270000629454</td><td>senador</td><td>eduardo-gomes                </td><td>EDUARDO GOMES                </td><td>777</td><td>270000621827</td><td>CARLOS EDUARDO TORRES GOMES            </td><td>MASC.</td><td>1966-04-28</td><td> 22562992704</td><td>⋯</td><td>NA</td><td>Eleito</td><td>GOVERNO DE ATITUDE                               </td><td>PHS / SOLIDARIEDADE / PP / DEM / PTC / PRB / AVANTE / PATRI / PROS                                                       </td><td>5</td><td>Senador</td><td>77</td><td>SOLIDARIEDADE</td><td>Solidariedade                          </td><td>APTO</td></tr>\n",
              "</tbody>\n",
              "</table>\n"
            ],
            "text/markdown": "\nA data.frame: 54 × 36\n\n| id &lt;dbl&gt; | tabela &lt;chr&gt; | slug &lt;chr&gt; | nomeUrna &lt;chr&gt; | numero &lt;int&gt; | idCandidatoSuperior &lt;dbl&gt; | nomeCompleto &lt;chr&gt; | descricaoSexo &lt;chr&gt; | dataDeNascimento &lt;chr&gt; | tituloEleitor &lt;dbl&gt; | ⋯ ⋯ | fotoDataUltimaAtualizacao &lt;lgl&gt; | descricaoTotalizacao &lt;chr&gt; | nomeColigacao &lt;chr&gt; | composicaoColigacao &lt;chr&gt; | cargo_codigo &lt;int&gt; | cargo_nome &lt;chr&gt; | partido_numero &lt;int&gt; | partido_sigla &lt;chr&gt; | partido_nome &lt;chr&gt; | descricaoSituacaoCandidato &lt;chr&gt; |\n|---|---|---|---|---|---|---|---|---|---|---|---|---|---|---|---|---|---|---|---|---|\n|  10000603058 | senador | petecao                       | PETECÃO                       | 555 |            0 | SÉRGIO DE OLIVEIRA CUNHA                | MASC. | 1960-04-20 |    825962445 | ⋯ | NA | Eleito | MUDANÇA E COMPETÊNCIA                             | PP / MDB / PSDB / DEM / PSD / PTB / PMN / SOLIDARIEDADE / PTC / PR / PPS                                                  | 5 | Senador | 55 | PSD           | Partido Social Democrático              | APTO |\n|  10000603061 | senador | marcio-bittar                 | MÁRCIO BITTAR                 | 151 |            0 | MARCIO MIGUEL BITTAR                    | MASC. | 1963-06-28 |    259632429 | ⋯ | NA | Eleito | MUDANÇA E COMPETÊNCIA                             | PP / MDB / PSDB / DEM / PSD / PTB / PMN / SOLIDARIEDADE / PTC / PR / PPS                                                  | 5 | Senador | 15 | MDB           | Movimento Democrático Brasileiro        | APTO |\n|  20000616686 | senador | rodrigo-cunha                 | RODRIGO CUNHA                 | 456 |            0 | RODRIGO SANTOS CUNHA                    | MASC. | 1981-05-11 |  27208171767 | ⋯ | NA | Eleito | Alagoas com o Povo                                | PTC / PSDB / PP / PSB / PSC / PROS / PRB / DEM                                                                            | 5 | Senador | 45 | PSDB          | Partido da Social Democracia Brasileira | APTO |\n|  20000621738 | senador | renan                         | RENAN                         | 151 |            0 | JOSÉ RENAN VASCONCELOS CALHEIROS        | MASC. | 1955-09-16 |   5448401791 | ⋯ | NA | Eleito | Avança Mais Alagoas                               | MDB / PODE / PPS / PDT / PR / PTB / PHS / PT / PV / PRP / PRTB / PSD / DC / PC do B / AVANTE / PMN / SOLIDARIEDADE        | 5 | Senador | 15 | MDB           | Movimento Democrático Brasileiro        | APTO |\n|  30000607892 | senador | lucas-barreto                 | LUCAS BARRETO                 | 147 |            0 | LUIZ CANTUÁRIA BARRETO                  | MASC. | 1964-11-10 |     89892534 | ⋯ | NA | Eleito | PTB                                               | **                                                                                                                        | 5 | Senador | 14 | PTB           | Partido Trabalhista Brasileiro          | APTO |\n|  30000620104 | senador | randolfe                      | RANDOLFE                      | 180 |            0 | RANDOLPH FREDERICH RODRIGUES ALVES      | MASC. | 1972-11-06 |   1331132526 | ⋯ | NA | Eleito | TRABALHO E UNIÃO PELO AMAPÁ                       | DEM / REDE / PSDB / PPL / PP / PSC / AVANTE / PSD / PODE / SOLIDARIEDADE                                                  | 5 | Senador | 18 | REDE          | Rede Sustentabilidade                   | APTO |\n|  40000603706 | senador | plinio-valerio                | PLINIO VALERIO                | 455 |            0 | FRANCISCO PLINIO VALERIO TOMAZ          | MASC. | 1955-01-31 |    854162267 | ⋯ | NA | Eleito | AMAZONAS COM SEGURANÇA                            | PSD / PSDB / DEM / PRB / PTC / PATRI                                                                                      | 5 | Senador | 45 | PSDB          | Partido da Social Democracia Brasileira | APTO |\n|  40000618261 | senador | eduardo-braga                 | EDUARDO BRAGA                 | 155 |            0 | CARLOS EDUARDO DE SOUZA BRAGA           | MASC. | 1960-12-06 |   2430682216 | ⋯ | NA | Eleito | MDB                                               | **                                                                                                                        | 5 | Senador | 15 | MDB           | Movimento Democrático Brasileiro        | APTO |\n|  50000607712 | senador | jaques-wagner                 | JAQUES WAGNER                 | 130 |  50000620039 | JAQUES WAGNER                           | MASC. | 1951-03-16 |  38496250590 | ⋯ | NA | Eleito | MAIS TRABALHO POR TODA A BAHIA                    | PT / PP / PDT / PSD / PSB / PC do B / PR / PMB / PRP / PODE / AVANTE / PMN / PROS / PTC                                   | 5 | Senador | 13 | PT            | Partido dos Trabalhadores               | APTO |\n|  50000607716 | senador | angelo-coronel                | ANGELO CORONEL                | 555 |  50000620038 | ANGELO MARIO CORONEL DE AZEVEDO MARTINS | MASC. | 1958-05-03 |  30402880531 | ⋯ | NA | Eleito | MAIS TRABALHO POR TODA A BAHIA                    | PT / PP / PDT / PSD / PSB / PC do B / PR / PMB / PRP / PODE / AVANTE / PMN / PROS / PTC                                   | 5 | Senador | 55 | PSD           | Partido Social Democrático              | APTO |\n|  60000610981 | senador | cid-gomes                     | CID GOMES                     | 123 |            0 | CID FERREIRA GOMES                      | MASC. | 1963-04-27 |   9288930779 | ⋯ | NA | Eleito | POR UM CEARA CADA VEZ MAIS FORTE                  | PT / PDT / PP / PSB / PR / PTB / DEM / PC do B / PPS / PRP / PV / PMN / PPL / PATRI / PRTB / PMB                          | 5 | Senador | 12 | PDT           | Partido Democrático Trabalhista         | APTO |\n|  60000611597 | senador | eduardo-girao                 | EDUARDO GIRÃO                 | 900 |            0 | LUIS EDUARDO GRANGEIRO GIRÃO            | MASC. | 1972-09-25 |  33294250795 | ⋯ | NA | Eleito | TÁ NA HORA DE MUDAR                               | PSDB / PROS                                                                                                               | 5 | Senador | 90 | PROS          | Partido Republicano da Ordem Social     | APTO |\n|  70000614410 | senador | leila-do-volei                | LEILA DO VÔLEI                | 408 |            0 | LEILA GOMES DE BARROS RÊGO              | FEM.  | 1971-09-30 |  99971460213 | ⋯ | NA | Eleito | Brasília de Mãos Limpas                           | PSB / PV / PC do B / PDT / REDE                                                                                           | 5 | Senador | 40 | PSB           | Partido Socialista Brasileiro           | APTO |\n|  70000625515 | senador | izalci                        | IZALCI                        | 456 |            0 | IZALCI LUCAS FERREIRA                   | MASC. | 1956-04-07 |   6274332011 | ⋯ | NA | Eleito | CORAGEM E RESPEITO PELO POVO                      | PR / PSDB / DEM / DC                                                                                                      | 5 | Senador | 45 | PSDB          | Partido da Social Democracia Brasileira | APTO |\n|  80000612948 | senador | fabiano-contarato             | FABIANO CONTARATO             | 181 |            0 | FABIANO CONTARATO                       | MASC. | 1966-06-20 |   8234071481 | ⋯ | NA | Eleito | UM NOVO CAMINHO PARA O ESPÍRITO SANTO             | PRTB / REDE / PODE / MDB / PMN / PATRI                                                                                    | 5 | Senador | 18 | REDE          | Rede Sustentabilidade                   | APTO |\n|  80000625508 | senador | marcos-do-val                 | MARCOS DO VAL                 | 234 |            0 | MARCOS RIBEIRO DO VAL                   | MASC. | 1971-06-15 |  14071901481 | ⋯ | NA | Eleito | ESPIRITO SANTO MAIS IGUAL                         | PSB / PHS / PROS / PV / PSC / AVANTE / PTC / PPS / PSDB / DEM / PDT / PP / PC do B / PPL / DC / SOLIDARIEDADE / PRP / PSD | 5 | Senador | 23 | PPS           | Partido Popular Socialista              | APTO |\n|  90000609234 | senador | vanderlan                     | VANDERLAN                     | 111 |            0 | VANDERLAN VIEIRA CARDOSO                | MASC. | 1962-11-15 |   1300232674 | ⋯ | NA | Eleito | NOVAS IDEIAS NOVO GOIÁS                           | MDB / PRB / PHS / PP                                                                                                      | 5 | Senador | 11 | PP            | Partido Progressista                    | APTO |\n|  90000613472 | senador | jorge-kajuru                  | JORGE KAJURU                  | 444 |            0 | JORGE KAJURU REIS DA COSTA NASSER       | MASC. | 1961-01-20 |  37777141090 | ⋯ | NA | Eleito | A MUDANÇA É AGORA                                 | DEM / PRP / PROS / PMN / PMB / PSC / DC / PSL / PODE / PTC / PRTB / PDT                                                   | 5 | Senador | 44 | PRP           | Partido Republicano Progressista        | APTO |\n| 100000603920 | senador | weverton                      | WEVERTON                      | 123 |            0 | WEVERTON ROCHA MARQUES DE SOUSA         | MASC. | 1979-10-08 |  33785831104 | ⋯ | NA | Eleito | TODOS PELO MARANHÃO                               | PC do B / PRB / PDT / PPS / DEM / PSB / PR / PP / PROS / PT / PTB / PATRI / PTC / SOLIDARIEDADE / PPL / AVANTE            | 5 | Senador | 12 | PDT           | Partido Democrático Trabalhista         | APTO |\n| 100000603923 | senador | eliziane-gama                 | ELIZIANE GAMA                 | 232 |            0 | ELIZIANE PEREIRA GAMA MELO              | FEM.  | 1977-02-27 |  31142001112 | ⋯ | NA | Eleito | TODOS PELO MARANHÃO                               | PC do B / PRB / PDT / PPS / DEM / PSB / PR / PP / PROS / PT / PTB / PATRI / PTC / SOLIDARIEDADE / PPL / AVANTE            | 5 | Senador | 23 | PPS           | Partido Popular Socialista              | APTO |\n| 110000612714 | senador | jayme-campos                  | JAYME CAMPOS                  | 251 |            0 | JAYME VERISSIMO DE CAMPOS               | MASC. | 1951-09-13 |   8104391856 | ⋯ | NA | Eleito | PRA MUDAR MATO GROSSO                             | DEM / PSD / PDT / PSC / MDB / PMB / PHS / PTC                                                                             | 5 | Senador | 25 | DEM           | Democratas                              | APTO |\n| 110000613185 | senador | juiza-selma-arruda            | JUIZA SELMA ARRUDA            | 170 |            0 | SELMA ROSANE SANTOS ARRUDA              | FEM.  | 1963-01-20 |   3174701805 | ⋯ | NA | Eleito | COLIGAÇÃO SEGUE EM FRENTE MATO GROSSO             | PSL / PPS / PSB / DC / PRP / PSDB / PATRI / AVANTE / SOLIDARIEDADE                                                        | 5 | Senador | 17 | PSL           | Partido Social Liberal                  | APTO |\n| 120000606866 | senador | nelsinho-trad                 | NELSINHO TRAD                 | 144 |            0 | NELSON TRAD FILHO                       | MASC. | 1961-09-05 |   3230671988 | ⋯ | NA | Eleito | AVANÇAR COM RESPONSABILIDADE                      | PMN / DEM / PP / PSB / PTB / PSDB / PATRI / PSD / PPS / AVANTE / SOLIDARIEDADE / PROS                                     | 5 | Senador | 14 | PTB           | Partido Trabalhista Brasileiro          | APTO |\n| 120000623873 | senador | soraya-thronicke              | SORAYA THRONICKE              | 177 |            0 | SORAYA VIEIRA THRONICKE                 | FEM.  | 1973-06-01 |  13250921929 | ⋯ | NA | Eleito | PSL                                               | **                                                                                                                        | 5 | Senador | 17 | PSL           | Partido Social Liberal                  | APTO |\n| 130000604556 | senador | rodrigo-pacheco               | RODRIGO PACHECO               | 250 |            0 | RODRIGO OTÁVIO SOARES PACHECO           | MASC. | 1976-11-03 | 114662440248 | ⋯ | NA | Eleito | RECONSTRUIR MINAS                                 | PSDB / PSD / SOLIDARIEDADE / PTB / PPS / PMN / PSC / DEM / PP / PTC / PATRI / PMB                                         | 5 | Senador | 25 | DEM           | Democratas                              | APTO |\n| 130000612381 | senador | jornalista-carlos-viana       | JORNALISTA CARLOS VIANA       | 310 |            0 | CARLOS ALBERTO DIAS VIANA               | MASC. | 1963-03-22 |  92829170213 | ⋯ | NA | Eleito | PHS                                               | **                                                                                                                        | 5 | Senador | 31 | PHS           | Partido Humanista da Solidariedade      | APTO |\n| 140000621333 | senador | jader-barbalho                | JADER BARBALHO                | 151 |            0 | JADER FONTENELLE BARBALHO               | MASC. | 1944-10-27 |  12453171309 | ⋯ | NA | Eleito | O PARÁ DAQUI PRA FRENTE                           | MDB / PP / PRB / PR / PSC / PTB / PHS / PMB / PODE / DC / PTC / PATRI / PSD / AVANTE / PSL / PROS                         | 5 | Senador | 15 | MDB           | Movimento Democrático Brasileiro        | APTO |\n| 140000621337 | senador | zequinha-marinho              | ZEQUINHA MARINHO              | 200 |            0 | JOSÉ DA CRUZ MARINHO                    | MASC. | 1959-09-18 |   8226021341 | ⋯ | NA | Eleito | O PARÁ DAQUI PRA FRENTE                           | MDB / PP / PRB / PR / PSC / PTB / PHS / PMB / PODE / DC / PTC / PATRI / PSD / AVANTE / PSL / PROS                         | 5 | Senador | 20 | PSC           | Partido Social Cristão                  | APTO |\n| 150000603510 | senador | veneziano                     | VENEZIANO                     | 400 |            0 | VENEZIANO VITAL DO RÊGO SEGUNDO NETO    | MASC. | 1970-07-17 |  16146621201 | ⋯ | NA | Eleito | A FORÇA DO TRABALHO                               | PSB / PDT / PT / DEM / PTB / PRP / PODE / PRB / PC do B / AVANTE / PPS / REDE / PMN / PROS                                | 5 | Senador | 40 | PSB           | Partido Socialista Brasileiro           | APTO |\n| 150000615600 | senador | daniella-ribeiro              | DANIELLA RIBEIRO              | 111 |            0 | DANIELLA VELLOSO BORGES RIBEIRO         | FEM.  | 1972-03-26 |  18882051260 | ⋯ | NA | Eleito | Força da Esperança                                | PV / PSDB / PP / PSD / PSC / SOLIDARIEDADE / DC / PRTB / PHS / PTC / PSL / PPL                                            | 5 | Senador | 11 | PP            | Partido Progressista                    | APTO |\n| 160000609227 | senador | professor-oriovisto-guimaraes | PROFESSOR ORIOVISTO GUIMARAES | 191 |            0 | ORIOVISTO GUIMARAES                     | MASC. | 1945-08-12 |    655290655 | ⋯ | NA | Eleito | PARANA INOVADOR                                   | PSD / PSC / PV / PR / PRB / PHS / PPS / PODE / AVANTE                                                                     | 5 | Senador | 19 | PODE          | Podemos                                 | APTO |\n| 160000609967 | senador | flavio-arns                   | FLAVIO ARNS                   | 181 |            0 | FLAVIO JOSE ARNS                        | MASC. | 1950-11-09 |   4675000620 | ⋯ | NA | Eleito | Coligação do bem e da verdade para mudar o Paraná | REDE / DC / PPL                                                                                                           | 5 | Senador | 18 | REDE          | Rede Sustentabilidade                   | APTO |\n| 170000604548 | senador | humberto-costa                | HUMBERTO COSTA                | 130 |            0 | HUMBERTO SÉRGIO COSTA LIMA              | MASC. | 1957-07-07 |   5504040809 | ⋯ | NA | Eleito | FRENTE POPULAR DE PERNAMBUCO                      | PSB / PC do B / PT / MDB / PP / PR / PMN / PTC / PRP / PATRI / PSD / PPL / SOLIDARIEDADE                                  | 5 | Senador | 13 | PT            | Partido dos Trabalhadores               | APTO |\n| 170000604551 | senador | jarbas                        | JARBAS                        | 156 |            0 | JARBAS DE ANDRADE VASCONCELOS           | MASC. | 1942-08-23 |   3358090876 | ⋯ | NA | Eleito | FRENTE POPULAR DE PERNAMBUCO                      | PSB / PC do B / PT / MDB / PP / PR / PMN / PTC / PRP / PATRI / PSD / PPL / SOLIDARIEDADE                                  | 5 | Senador | 15 | MDB           | Movimento Democrático Brasileiro        | APTO |\n| 180000614004 | senador | ciro-nogueira                 | CIRO NOGUEIRA                 | 111 | 180000613920 | CIRO NOGUEIRA LIMA FILHO                | MASC. | 1968-11-21 |  20499931503 | ⋯ | NA | Eleito | A Vitória Com a Força do Povo                     | PT / MDB / PP / PR / PDT / PSD / PC do B / PTB / PRTB                                                                     | 5 | Senador | 11 | PP            | Partido Progressista                    | APTO |\n| 180000614005 | senador | marcelo-castro                | MARCELO CASTRO                | 151 | 180000613904 | MARCELO COSTA E CASTRO                  | MASC. | 1950-06-09 |    123561503 | ⋯ | NA | Eleito | A Vitória Com a Força do Povo                     | PT / MDB / PP / PR / PDT / PSD / PC do B / PTB / PRTB                                                                     | 5 | Senador | 15 | MDB           | Movimento Democrático Brasileiro        | APTO |\n| 190000607913 | senador | arolde-de-oliveira            | AROLDE DE OLIVEIRA            | 555 |            0 | AROLDE DE OLIVEIRA                      | MASC. | 1937-03-11 |   2597020302 | ⋯ | NA | Eleito | PSD                                               | **                                                                                                                        | 5 | Senador | 55 | PSD           | Partido Social Democrático              | APTO |\n| 190000614721 | senador | flavio-bolsonaro              | FLÁVIO BOLSONARO              | 177 |            0 | FLÁVIO NANTES BOLSONARO                 | MASC. | 1981-04-30 | 108563260302 | ⋯ | NA | Eleito | PSL                                               | **                                                                                                                        | 5 | Senador | 17 | PSL           | Partido Social Liberal                  | APTO |\n| 200000606729 | senador | dr-zenaide-maia               | DRª ZENAIDE MAIA              | 313 |            0 | ZENAIDE MAIA CALADO PEREIRA DOS SANTOS  | FEM.  | 1954-11-27 |   1224541694 | ⋯ | NA | Eleito | DO LADO CERTO                                     | PT / PC do B / PHS                                                                                                        | 5 | Senador | 31 | PHS           | Partido Humanista da Solidariedade      | APTO |\n| 200000626720 | senador | capitao-styvenson             | CAPITÃO STYVENSON             | 180 |            0 | EANN STYVENSON VALENTIM MENDES          | MASC. | 1977-02-07 |  18759881627 | ⋯ | NA | Eleito | REDE                                              | **                                                                                                                        | 5 | Senador | 18 | REDE          | Rede Sustentabilidade                   | APTO |\n| 210000606445 | senador | paulo-paim                    | PAULO PAIM                    | 131 |            0 | PAULO RENATO PAIM                       | MASC. | 1950-03-15 |  32745760418 | ⋯ | NA | Eleito | POR UM RIO GRANDE JUSTO                           | PT / PC do B                                                                                                              | 5 | Senador | 13 | PT            | Partido dos Trabalhadores               | APTO |\n| 210000622364 | senador | luis-carlos-heinze            | LUIS CARLOS HEINZE            | 111 |            0 | LUIS CARLOS HEINZE                      | MASC. | 1950-09-14 |   9353970469 | ⋯ | NA | Eleito | RIO GRANDE DA GENTE                               | PSDB / PTB / PRB / PPS / PHS / REDE / PP                                                                                  | 5 | Senador | 11 | PP            | Partido Progressista                    | APTO |\n| 220000609853 | senador | marcos-rogerio                | MARCOS ROGÉRIO                | 255 |            0 | MARCOS ROGÉRIO DA SILVA BRITO           | MASC. | 1978-07-07 |   9557492305 | ⋯ | NA | Eleito | RONDÔNIA, ESPERANÇA DE UM NOVO TEMPO              | PSDB / DEM / PSD / PRB / PATRI                                                                                            | 5 | Senador | 25 | DEM           | Democratas                              | APTO |\n| 220000618467 | senador | confucio-moura                | CONFUCIO MOURA                | 152 |            0 | CONFUCIO AIRES MOURA                    | MASC. | 1948-05-16 |   2025122348 | ⋯ | NA | Eleito | RONDONIA, UNIDOS SOMOS FORTES                     | MDB / PODE / PMN / PSC / PC do B / PHS / PROS / PV                                                                        | 5 | Senador | 15 | MDB           | Movimento Democrático Brasileiro        | APTO |\n| 230000601673 | senador | chico-rodrigues               | CHICO RODRIGUES               | 255 |            0 | FRANCISCO DE ASSIS RODRIGUES            | MASC. | 1951-04-23 |     27052674 | ⋯ | NA | Eleito | TODOS POR RORAIMA                                 | PSDB / DEM / MDB / PSD / PPS / SOLIDARIEDADE / DC                                                                         | 5 | Senador | 25 | DEM           | Democratas                              | APTO |\n| 230000609420 | senador | mecias-de-jesus               | MECIAS DE JESUS               | 107 |            0 | ANTÔNIO MECIAS PEREIRA DE JESUS         | MASC. | 1962-02-08 |     92352658 | ⋯ | NA | Eleito | AGORA É RORAIMA COM TUDO                          | PSL / PRB / PTC / PRP / PROS / PSC / PPL / PATRI                                                                          | 5 | Senador | 10 | PRB           | Partido Republicano Brasileiro          | APTO |\n| 240000609539 | senador | jorginho-mello                | JORGINHO MELLO                | 222 |            0 | JORGINHO DOS SANTOS MELLO               | MASC. | 1956-07-15 |   7894870922 | ⋯ | NA | Eleito | SANTA CATARINA QUER MAIS                          | MDB / AVANTE / PSDB / PTB / PTC / PRTB / DC / PR / PPS                                                                    | 5 | Senador | 22 | PR            | Partido da República                    | APTO |\n| 240000621326 | senador | esperidiao-amin               | ESPERIDIÃO AMIN               | 111 |            0 | ESPERIDIÃO AMIN HELOU FILHO             | MASC. | 1947-12-21 |   5399180914 | ⋯ | NA | Eleito | AQUI É TRABALHO                                   | PSD / PRB / PDT / PSB / PODE / SOLIDARIEDADE / PROS / PSC / PC do B / PHS / PP / DEM / PRP / PPL / PV                     | 5 | Senador | 11 | PP            | Partido Progressista                    | APTO |\n| 250000612593 | senador | mara-gabrilli                 | MARA GABRILLI                 | 457 |            0 | MARA CRISTINA GABRILLI                  | FEM.  | 1967-09-28 | 100632050108 | ⋯ | NA | Eleito | AceleraSP                                         | PSDB / DEM / PSD / PRB / PP / PTC                                                                                         | 5 | Senador | 45 | PSDB          | Partido da Social Democracia Brasileira | APTO |\n| 250000615466 | senador | major-olimpio                 | MAJOR OLIMPIO                 | 177 |            0 | SERGIO OLIMPIO GOMES                    | MASC. | 1962-03-20 |  83386310191 | ⋯ | NA | Eleito | SÃO PAULO ACIMA DE TUDO, DEUS ACIMA DE TODOS      | PRTB / PSL                                                                                                                | 5 | Senador | 17 | PSL           | Partido Social Liberal                  | APTO |\n| 260000601810 | senador | delegado-alessandro-vieira    | DELEGADO ALESSANDRO VIEIRA    | 181 |            0 | ALESSANDRO VIEIRA                       | MASC. | 1975-04-03 |  18291022135 | ⋯ | NA | Eleito | REDE                                              | **                                                                                                                        | 5 | Senador | 18 | REDE          | Rede Sustentabilidade                   | APTO |\n| 260000623617 | senador | rogerio-carvalho-santos       | ROGERIO CARVALHO SANTOS       | 131 |            0 | ROGERIO CARVALHO SANTOS                 | MASC. | 1968-08-02 | 173753480159 | ⋯ | NA | Eleito | PRA SERGIPE AVANÇAR                               | PP / MDB / DC / PC do B / PSD / PT / PHS                                                                                  | 5 | Senador | 13 | PT            | Partido dos Trabalhadores               | APTO |\n| 270000626087 | senador | iraja                         | IRAJÁ                         | 555 |            0 | IRAJÁ SILVESTRE FILHO                   | MASC. | 1983-02-03 |  36229682771 | ⋯ | NA | Eleito | Coligação Frente Alternativa                      | REDE / PRTB / PTB / PC do B / PT / PV / PDT / PSD                                                                         | 5 | Senador | 55 | PSD           | Partido Social Democrático              | APTO |\n| 270000629454 | senador | eduardo-gomes                 | EDUARDO GOMES                 | 777 | 270000621827 | CARLOS EDUARDO TORRES GOMES             | MASC. | 1966-04-28 |  22562992704 | ⋯ | NA | Eleito | GOVERNO DE ATITUDE                                | PHS / SOLIDARIEDADE / PP / DEM / PTC / PRB / AVANTE / PATRI / PROS                                                        | 5 | Senador | 77 | SOLIDARIEDADE | Solidariedade                           | APTO |\n\n",
            "text/latex": "A data.frame: 54 × 36\n\\begin{tabular}{lllllllllllllllllllll}\n id & tabela & slug & nomeUrna & numero & idCandidatoSuperior & nomeCompleto & descricaoSexo & dataDeNascimento & tituloEleitor & ⋯ & fotoDataUltimaAtualizacao & descricaoTotalizacao & nomeColigacao & composicaoColigacao & cargo\\_codigo & cargo\\_nome & partido\\_numero & partido\\_sigla & partido\\_nome & descricaoSituacaoCandidato\\\\\n <dbl> & <chr> & <chr> & <chr> & <int> & <dbl> & <chr> & <chr> & <chr> & <dbl> & ⋯ & <lgl> & <chr> & <chr> & <chr> & <int> & <chr> & <int> & <chr> & <chr> & <chr>\\\\\n\\hline\n\t  10000603058 & senador & petecao                       & PETECÃO                       & 555 &            0 & SÉRGIO DE OLIVEIRA CUNHA                & MASC. & 1960-04-20 &    825962445 & ⋯ & NA & Eleito & MUDANÇA E COMPETÊNCIA                             & PP / MDB / PSDB / DEM / PSD / PTB / PMN / SOLIDARIEDADE / PTC / PR / PPS                                                  & 5 & Senador & 55 & PSD           & Partido Social Democrático              & APTO\\\\\n\t  10000603061 & senador & marcio-bittar                 & MÁRCIO BITTAR                 & 151 &            0 & MARCIO MIGUEL BITTAR                    & MASC. & 1963-06-28 &    259632429 & ⋯ & NA & Eleito & MUDANÇA E COMPETÊNCIA                             & PP / MDB / PSDB / DEM / PSD / PTB / PMN / SOLIDARIEDADE / PTC / PR / PPS                                                  & 5 & Senador & 15 & MDB           & Movimento Democrático Brasileiro        & APTO\\\\\n\t  20000616686 & senador & rodrigo-cunha                 & RODRIGO CUNHA                 & 456 &            0 & RODRIGO SANTOS CUNHA                    & MASC. & 1981-05-11 &  27208171767 & ⋯ & NA & Eleito & Alagoas com o Povo                                & PTC / PSDB / PP / PSB / PSC / PROS / PRB / DEM                                                                            & 5 & Senador & 45 & PSDB          & Partido da Social Democracia Brasileira & APTO\\\\\n\t  20000621738 & senador & renan                         & RENAN                         & 151 &            0 & JOSÉ RENAN VASCONCELOS CALHEIROS        & MASC. & 1955-09-16 &   5448401791 & ⋯ & NA & Eleito & Avança Mais Alagoas                               & MDB / PODE / PPS / PDT / PR / PTB / PHS / PT / PV / PRP / PRTB / PSD / DC / PC do B / AVANTE / PMN / SOLIDARIEDADE        & 5 & Senador & 15 & MDB           & Movimento Democrático Brasileiro        & APTO\\\\\n\t  30000607892 & senador & lucas-barreto                 & LUCAS BARRETO                 & 147 &            0 & LUIZ CANTUÁRIA BARRETO                  & MASC. & 1964-11-10 &     89892534 & ⋯ & NA & Eleito & PTB                                               & **                                                                                                                        & 5 & Senador & 14 & PTB           & Partido Trabalhista Brasileiro          & APTO\\\\\n\t  30000620104 & senador & randolfe                      & RANDOLFE                      & 180 &            0 & RANDOLPH FREDERICH RODRIGUES ALVES      & MASC. & 1972-11-06 &   1331132526 & ⋯ & NA & Eleito & TRABALHO E UNIÃO PELO AMAPÁ                       & DEM / REDE / PSDB / PPL / PP / PSC / AVANTE / PSD / PODE / SOLIDARIEDADE                                                  & 5 & Senador & 18 & REDE          & Rede Sustentabilidade                   & APTO\\\\\n\t  40000603706 & senador & plinio-valerio                & PLINIO VALERIO                & 455 &            0 & FRANCISCO PLINIO VALERIO TOMAZ          & MASC. & 1955-01-31 &    854162267 & ⋯ & NA & Eleito & AMAZONAS COM SEGURANÇA                            & PSD / PSDB / DEM / PRB / PTC / PATRI                                                                                      & 5 & Senador & 45 & PSDB          & Partido da Social Democracia Brasileira & APTO\\\\\n\t  40000618261 & senador & eduardo-braga                 & EDUARDO BRAGA                 & 155 &            0 & CARLOS EDUARDO DE SOUZA BRAGA           & MASC. & 1960-12-06 &   2430682216 & ⋯ & NA & Eleito & MDB                                               & **                                                                                                                        & 5 & Senador & 15 & MDB           & Movimento Democrático Brasileiro        & APTO\\\\\n\t  50000607712 & senador & jaques-wagner                 & JAQUES WAGNER                 & 130 &  50000620039 & JAQUES WAGNER                           & MASC. & 1951-03-16 &  38496250590 & ⋯ & NA & Eleito & MAIS TRABALHO POR TODA A BAHIA                    & PT / PP / PDT / PSD / PSB / PC do B / PR / PMB / PRP / PODE / AVANTE / PMN / PROS / PTC                                   & 5 & Senador & 13 & PT            & Partido dos Trabalhadores               & APTO\\\\\n\t  50000607716 & senador & angelo-coronel                & ANGELO CORONEL                & 555 &  50000620038 & ANGELO MARIO CORONEL DE AZEVEDO MARTINS & MASC. & 1958-05-03 &  30402880531 & ⋯ & NA & Eleito & MAIS TRABALHO POR TODA A BAHIA                    & PT / PP / PDT / PSD / PSB / PC do B / PR / PMB / PRP / PODE / AVANTE / PMN / PROS / PTC                                   & 5 & Senador & 55 & PSD           & Partido Social Democrático              & APTO\\\\\n\t  60000610981 & senador & cid-gomes                     & CID GOMES                     & 123 &            0 & CID FERREIRA GOMES                      & MASC. & 1963-04-27 &   9288930779 & ⋯ & NA & Eleito & POR UM CEARA CADA VEZ MAIS FORTE                  & PT / PDT / PP / PSB / PR / PTB / DEM / PC do B / PPS / PRP / PV / PMN / PPL / PATRI / PRTB / PMB                          & 5 & Senador & 12 & PDT           & Partido Democrático Trabalhista         & APTO\\\\\n\t  60000611597 & senador & eduardo-girao                 & EDUARDO GIRÃO                 & 900 &            0 & LUIS EDUARDO GRANGEIRO GIRÃO            & MASC. & 1972-09-25 &  33294250795 & ⋯ & NA & Eleito & TÁ NA HORA DE MUDAR                               & PSDB / PROS                                                                                                               & 5 & Senador & 90 & PROS          & Partido Republicano da Ordem Social     & APTO\\\\\n\t  70000614410 & senador & leila-do-volei                & LEILA DO VÔLEI                & 408 &            0 & LEILA GOMES DE BARROS RÊGO              & FEM.  & 1971-09-30 &  99971460213 & ⋯ & NA & Eleito & Brasília de Mãos Limpas                           & PSB / PV / PC do B / PDT / REDE                                                                                           & 5 & Senador & 40 & PSB           & Partido Socialista Brasileiro           & APTO\\\\\n\t  70000625515 & senador & izalci                        & IZALCI                        & 456 &            0 & IZALCI LUCAS FERREIRA                   & MASC. & 1956-04-07 &   6274332011 & ⋯ & NA & Eleito & CORAGEM E RESPEITO PELO POVO                      & PR / PSDB / DEM / DC                                                                                                      & 5 & Senador & 45 & PSDB          & Partido da Social Democracia Brasileira & APTO\\\\\n\t  80000612948 & senador & fabiano-contarato             & FABIANO CONTARATO             & 181 &            0 & FABIANO CONTARATO                       & MASC. & 1966-06-20 &   8234071481 & ⋯ & NA & Eleito & UM NOVO CAMINHO PARA O ESPÍRITO SANTO             & PRTB / REDE / PODE / MDB / PMN / PATRI                                                                                    & 5 & Senador & 18 & REDE          & Rede Sustentabilidade                   & APTO\\\\\n\t  80000625508 & senador & marcos-do-val                 & MARCOS DO VAL                 & 234 &            0 & MARCOS RIBEIRO DO VAL                   & MASC. & 1971-06-15 &  14071901481 & ⋯ & NA & Eleito & ESPIRITO SANTO MAIS IGUAL                         & PSB / PHS / PROS / PV / PSC / AVANTE / PTC / PPS / PSDB / DEM / PDT / PP / PC do B / PPL / DC / SOLIDARIEDADE / PRP / PSD & 5 & Senador & 23 & PPS           & Partido Popular Socialista              & APTO\\\\\n\t  90000609234 & senador & vanderlan                     & VANDERLAN                     & 111 &            0 & VANDERLAN VIEIRA CARDOSO                & MASC. & 1962-11-15 &   1300232674 & ⋯ & NA & Eleito & NOVAS IDEIAS NOVO GOIÁS                           & MDB / PRB / PHS / PP                                                                                                      & 5 & Senador & 11 & PP            & Partido Progressista                    & APTO\\\\\n\t  90000613472 & senador & jorge-kajuru                  & JORGE KAJURU                  & 444 &            0 & JORGE KAJURU REIS DA COSTA NASSER       & MASC. & 1961-01-20 &  37777141090 & ⋯ & NA & Eleito & A MUDANÇA É AGORA                                 & DEM / PRP / PROS / PMN / PMB / PSC / DC / PSL / PODE / PTC / PRTB / PDT                                                   & 5 & Senador & 44 & PRP           & Partido Republicano Progressista        & APTO\\\\\n\t 100000603920 & senador & weverton                      & WEVERTON                      & 123 &            0 & WEVERTON ROCHA MARQUES DE SOUSA         & MASC. & 1979-10-08 &  33785831104 & ⋯ & NA & Eleito & TODOS PELO MARANHÃO                               & PC do B / PRB / PDT / PPS / DEM / PSB / PR / PP / PROS / PT / PTB / PATRI / PTC / SOLIDARIEDADE / PPL / AVANTE            & 5 & Senador & 12 & PDT           & Partido Democrático Trabalhista         & APTO\\\\\n\t 100000603923 & senador & eliziane-gama                 & ELIZIANE GAMA                 & 232 &            0 & ELIZIANE PEREIRA GAMA MELO              & FEM.  & 1977-02-27 &  31142001112 & ⋯ & NA & Eleito & TODOS PELO MARANHÃO                               & PC do B / PRB / PDT / PPS / DEM / PSB / PR / PP / PROS / PT / PTB / PATRI / PTC / SOLIDARIEDADE / PPL / AVANTE            & 5 & Senador & 23 & PPS           & Partido Popular Socialista              & APTO\\\\\n\t 110000612714 & senador & jayme-campos                  & JAYME CAMPOS                  & 251 &            0 & JAYME VERISSIMO DE CAMPOS               & MASC. & 1951-09-13 &   8104391856 & ⋯ & NA & Eleito & PRA MUDAR MATO GROSSO                             & DEM / PSD / PDT / PSC / MDB / PMB / PHS / PTC                                                                             & 5 & Senador & 25 & DEM           & Democratas                              & APTO\\\\\n\t 110000613185 & senador & juiza-selma-arruda            & JUIZA SELMA ARRUDA            & 170 &            0 & SELMA ROSANE SANTOS ARRUDA              & FEM.  & 1963-01-20 &   3174701805 & ⋯ & NA & Eleito & COLIGAÇÃO SEGUE EM FRENTE MATO GROSSO             & PSL / PPS / PSB / DC / PRP / PSDB / PATRI / AVANTE / SOLIDARIEDADE                                                        & 5 & Senador & 17 & PSL           & Partido Social Liberal                  & APTO\\\\\n\t 120000606866 & senador & nelsinho-trad                 & NELSINHO TRAD                 & 144 &            0 & NELSON TRAD FILHO                       & MASC. & 1961-09-05 &   3230671988 & ⋯ & NA & Eleito & AVANÇAR COM RESPONSABILIDADE                      & PMN / DEM / PP / PSB / PTB / PSDB / PATRI / PSD / PPS / AVANTE / SOLIDARIEDADE / PROS                                     & 5 & Senador & 14 & PTB           & Partido Trabalhista Brasileiro          & APTO\\\\\n\t 120000623873 & senador & soraya-thronicke              & SORAYA THRONICKE              & 177 &            0 & SORAYA VIEIRA THRONICKE                 & FEM.  & 1973-06-01 &  13250921929 & ⋯ & NA & Eleito & PSL                                               & **                                                                                                                        & 5 & Senador & 17 & PSL           & Partido Social Liberal                  & APTO\\\\\n\t 130000604556 & senador & rodrigo-pacheco               & RODRIGO PACHECO               & 250 &            0 & RODRIGO OTÁVIO SOARES PACHECO           & MASC. & 1976-11-03 & 114662440248 & ⋯ & NA & Eleito & RECONSTRUIR MINAS                                 & PSDB / PSD / SOLIDARIEDADE / PTB / PPS / PMN / PSC / DEM / PP / PTC / PATRI / PMB                                         & 5 & Senador & 25 & DEM           & Democratas                              & APTO\\\\\n\t 130000612381 & senador & jornalista-carlos-viana       & JORNALISTA CARLOS VIANA       & 310 &            0 & CARLOS ALBERTO DIAS VIANA               & MASC. & 1963-03-22 &  92829170213 & ⋯ & NA & Eleito & PHS                                               & **                                                                                                                        & 5 & Senador & 31 & PHS           & Partido Humanista da Solidariedade      & APTO\\\\\n\t 140000621333 & senador & jader-barbalho                & JADER BARBALHO                & 151 &            0 & JADER FONTENELLE BARBALHO               & MASC. & 1944-10-27 &  12453171309 & ⋯ & NA & Eleito & O PARÁ DAQUI PRA FRENTE                           & MDB / PP / PRB / PR / PSC / PTB / PHS / PMB / PODE / DC / PTC / PATRI / PSD / AVANTE / PSL / PROS                         & 5 & Senador & 15 & MDB           & Movimento Democrático Brasileiro        & APTO\\\\\n\t 140000621337 & senador & zequinha-marinho              & ZEQUINHA MARINHO              & 200 &            0 & JOSÉ DA CRUZ MARINHO                    & MASC. & 1959-09-18 &   8226021341 & ⋯ & NA & Eleito & O PARÁ DAQUI PRA FRENTE                           & MDB / PP / PRB / PR / PSC / PTB / PHS / PMB / PODE / DC / PTC / PATRI / PSD / AVANTE / PSL / PROS                         & 5 & Senador & 20 & PSC           & Partido Social Cristão                  & APTO\\\\\n\t 150000603510 & senador & veneziano                     & VENEZIANO                     & 400 &            0 & VENEZIANO VITAL DO RÊGO SEGUNDO NETO    & MASC. & 1970-07-17 &  16146621201 & ⋯ & NA & Eleito & A FORÇA DO TRABALHO                               & PSB / PDT / PT / DEM / PTB / PRP / PODE / PRB / PC do B / AVANTE / PPS / REDE / PMN / PROS                                & 5 & Senador & 40 & PSB           & Partido Socialista Brasileiro           & APTO\\\\\n\t 150000615600 & senador & daniella-ribeiro              & DANIELLA RIBEIRO              & 111 &            0 & DANIELLA VELLOSO BORGES RIBEIRO         & FEM.  & 1972-03-26 &  18882051260 & ⋯ & NA & Eleito & Força da Esperança                                & PV / PSDB / PP / PSD / PSC / SOLIDARIEDADE / DC / PRTB / PHS / PTC / PSL / PPL                                            & 5 & Senador & 11 & PP            & Partido Progressista                    & APTO\\\\\n\t 160000609227 & senador & professor-oriovisto-guimaraes & PROFESSOR ORIOVISTO GUIMARAES & 191 &            0 & ORIOVISTO GUIMARAES                     & MASC. & 1945-08-12 &    655290655 & ⋯ & NA & Eleito & PARANA INOVADOR                                   & PSD / PSC / PV / PR / PRB / PHS / PPS / PODE / AVANTE                                                                     & 5 & Senador & 19 & PODE          & Podemos                                 & APTO\\\\\n\t 160000609967 & senador & flavio-arns                   & FLAVIO ARNS                   & 181 &            0 & FLAVIO JOSE ARNS                        & MASC. & 1950-11-09 &   4675000620 & ⋯ & NA & Eleito & Coligação do bem e da verdade para mudar o Paraná & REDE / DC / PPL                                                                                                           & 5 & Senador & 18 & REDE          & Rede Sustentabilidade                   & APTO\\\\\n\t 170000604548 & senador & humberto-costa                & HUMBERTO COSTA                & 130 &            0 & HUMBERTO SÉRGIO COSTA LIMA              & MASC. & 1957-07-07 &   5504040809 & ⋯ & NA & Eleito & FRENTE POPULAR DE PERNAMBUCO                      & PSB / PC do B / PT / MDB / PP / PR / PMN / PTC / PRP / PATRI / PSD / PPL / SOLIDARIEDADE                                  & 5 & Senador & 13 & PT            & Partido dos Trabalhadores               & APTO\\\\\n\t 170000604551 & senador & jarbas                        & JARBAS                        & 156 &            0 & JARBAS DE ANDRADE VASCONCELOS           & MASC. & 1942-08-23 &   3358090876 & ⋯ & NA & Eleito & FRENTE POPULAR DE PERNAMBUCO                      & PSB / PC do B / PT / MDB / PP / PR / PMN / PTC / PRP / PATRI / PSD / PPL / SOLIDARIEDADE                                  & 5 & Senador & 15 & MDB           & Movimento Democrático Brasileiro        & APTO\\\\\n\t 180000614004 & senador & ciro-nogueira                 & CIRO NOGUEIRA                 & 111 & 180000613920 & CIRO NOGUEIRA LIMA FILHO                & MASC. & 1968-11-21 &  20499931503 & ⋯ & NA & Eleito & A Vitória Com a Força do Povo                     & PT / MDB / PP / PR / PDT / PSD / PC do B / PTB / PRTB                                                                     & 5 & Senador & 11 & PP            & Partido Progressista                    & APTO\\\\\n\t 180000614005 & senador & marcelo-castro                & MARCELO CASTRO                & 151 & 180000613904 & MARCELO COSTA E CASTRO                  & MASC. & 1950-06-09 &    123561503 & ⋯ & NA & Eleito & A Vitória Com a Força do Povo                     & PT / MDB / PP / PR / PDT / PSD / PC do B / PTB / PRTB                                                                     & 5 & Senador & 15 & MDB           & Movimento Democrático Brasileiro        & APTO\\\\\n\t 190000607913 & senador & arolde-de-oliveira            & AROLDE DE OLIVEIRA            & 555 &            0 & AROLDE DE OLIVEIRA                      & MASC. & 1937-03-11 &   2597020302 & ⋯ & NA & Eleito & PSD                                               & **                                                                                                                        & 5 & Senador & 55 & PSD           & Partido Social Democrático              & APTO\\\\\n\t 190000614721 & senador & flavio-bolsonaro              & FLÁVIO BOLSONARO              & 177 &            0 & FLÁVIO NANTES BOLSONARO                 & MASC. & 1981-04-30 & 108563260302 & ⋯ & NA & Eleito & PSL                                               & **                                                                                                                        & 5 & Senador & 17 & PSL           & Partido Social Liberal                  & APTO\\\\\n\t 200000606729 & senador & dr-zenaide-maia               & DRª ZENAIDE MAIA              & 313 &            0 & ZENAIDE MAIA CALADO PEREIRA DOS SANTOS  & FEM.  & 1954-11-27 &   1224541694 & ⋯ & NA & Eleito & DO LADO CERTO                                     & PT / PC do B / PHS                                                                                                        & 5 & Senador & 31 & PHS           & Partido Humanista da Solidariedade      & APTO\\\\\n\t 200000626720 & senador & capitao-styvenson             & CAPITÃO STYVENSON             & 180 &            0 & EANN STYVENSON VALENTIM MENDES          & MASC. & 1977-02-07 &  18759881627 & ⋯ & NA & Eleito & REDE                                              & **                                                                                                                        & 5 & Senador & 18 & REDE          & Rede Sustentabilidade                   & APTO\\\\\n\t 210000606445 & senador & paulo-paim                    & PAULO PAIM                    & 131 &            0 & PAULO RENATO PAIM                       & MASC. & 1950-03-15 &  32745760418 & ⋯ & NA & Eleito & POR UM RIO GRANDE JUSTO                           & PT / PC do B                                                                                                              & 5 & Senador & 13 & PT            & Partido dos Trabalhadores               & APTO\\\\\n\t 210000622364 & senador & luis-carlos-heinze            & LUIS CARLOS HEINZE            & 111 &            0 & LUIS CARLOS HEINZE                      & MASC. & 1950-09-14 &   9353970469 & ⋯ & NA & Eleito & RIO GRANDE DA GENTE                               & PSDB / PTB / PRB / PPS / PHS / REDE / PP                                                                                  & 5 & Senador & 11 & PP            & Partido Progressista                    & APTO\\\\\n\t 220000609853 & senador & marcos-rogerio                & MARCOS ROGÉRIO                & 255 &            0 & MARCOS ROGÉRIO DA SILVA BRITO           & MASC. & 1978-07-07 &   9557492305 & ⋯ & NA & Eleito & RONDÔNIA, ESPERANÇA DE UM NOVO TEMPO              & PSDB / DEM / PSD / PRB / PATRI                                                                                            & 5 & Senador & 25 & DEM           & Democratas                              & APTO\\\\\n\t 220000618467 & senador & confucio-moura                & CONFUCIO MOURA                & 152 &            0 & CONFUCIO AIRES MOURA                    & MASC. & 1948-05-16 &   2025122348 & ⋯ & NA & Eleito & RONDONIA, UNIDOS SOMOS FORTES                     & MDB / PODE / PMN / PSC / PC do B / PHS / PROS / PV                                                                        & 5 & Senador & 15 & MDB           & Movimento Democrático Brasileiro        & APTO\\\\\n\t 230000601673 & senador & chico-rodrigues               & CHICO RODRIGUES               & 255 &            0 & FRANCISCO DE ASSIS RODRIGUES            & MASC. & 1951-04-23 &     27052674 & ⋯ & NA & Eleito & TODOS POR RORAIMA                                 & PSDB / DEM / MDB / PSD / PPS / SOLIDARIEDADE / DC                                                                         & 5 & Senador & 25 & DEM           & Democratas                              & APTO\\\\\n\t 230000609420 & senador & mecias-de-jesus               & MECIAS DE JESUS               & 107 &            0 & ANTÔNIO MECIAS PEREIRA DE JESUS         & MASC. & 1962-02-08 &     92352658 & ⋯ & NA & Eleito & AGORA É RORAIMA COM TUDO                          & PSL / PRB / PTC / PRP / PROS / PSC / PPL / PATRI                                                                          & 5 & Senador & 10 & PRB           & Partido Republicano Brasileiro          & APTO\\\\\n\t 240000609539 & senador & jorginho-mello                & JORGINHO MELLO                & 222 &            0 & JORGINHO DOS SANTOS MELLO               & MASC. & 1956-07-15 &   7894870922 & ⋯ & NA & Eleito & SANTA CATARINA QUER MAIS                          & MDB / AVANTE / PSDB / PTB / PTC / PRTB / DC / PR / PPS                                                                    & 5 & Senador & 22 & PR            & Partido da República                    & APTO\\\\\n\t 240000621326 & senador & esperidiao-amin               & ESPERIDIÃO AMIN               & 111 &            0 & ESPERIDIÃO AMIN HELOU FILHO             & MASC. & 1947-12-21 &   5399180914 & ⋯ & NA & Eleito & AQUI É TRABALHO                                   & PSD / PRB / PDT / PSB / PODE / SOLIDARIEDADE / PROS / PSC / PC do B / PHS / PP / DEM / PRP / PPL / PV                     & 5 & Senador & 11 & PP            & Partido Progressista                    & APTO\\\\\n\t 250000612593 & senador & mara-gabrilli                 & MARA GABRILLI                 & 457 &            0 & MARA CRISTINA GABRILLI                  & FEM.  & 1967-09-28 & 100632050108 & ⋯ & NA & Eleito & AceleraSP                                         & PSDB / DEM / PSD / PRB / PP / PTC                                                                                         & 5 & Senador & 45 & PSDB          & Partido da Social Democracia Brasileira & APTO\\\\\n\t 250000615466 & senador & major-olimpio                 & MAJOR OLIMPIO                 & 177 &            0 & SERGIO OLIMPIO GOMES                    & MASC. & 1962-03-20 &  83386310191 & ⋯ & NA & Eleito & SÃO PAULO ACIMA DE TUDO, DEUS ACIMA DE TODOS      & PRTB / PSL                                                                                                                & 5 & Senador & 17 & PSL           & Partido Social Liberal                  & APTO\\\\\n\t 260000601810 & senador & delegado-alessandro-vieira    & DELEGADO ALESSANDRO VIEIRA    & 181 &            0 & ALESSANDRO VIEIRA                       & MASC. & 1975-04-03 &  18291022135 & ⋯ & NA & Eleito & REDE                                              & **                                                                                                                        & 5 & Senador & 18 & REDE          & Rede Sustentabilidade                   & APTO\\\\\n\t 260000623617 & senador & rogerio-carvalho-santos       & ROGERIO CARVALHO SANTOS       & 131 &            0 & ROGERIO CARVALHO SANTOS                 & MASC. & 1968-08-02 & 173753480159 & ⋯ & NA & Eleito & PRA SERGIPE AVANÇAR                               & PP / MDB / DC / PC do B / PSD / PT / PHS                                                                                  & 5 & Senador & 13 & PT            & Partido dos Trabalhadores               & APTO\\\\\n\t 270000626087 & senador & iraja                         & IRAJÁ                         & 555 &            0 & IRAJÁ SILVESTRE FILHO                   & MASC. & 1983-02-03 &  36229682771 & ⋯ & NA & Eleito & Coligação Frente Alternativa                      & REDE / PRTB / PTB / PC do B / PT / PV / PDT / PSD                                                                         & 5 & Senador & 55 & PSD           & Partido Social Democrático              & APTO\\\\\n\t 270000629454 & senador & eduardo-gomes                 & EDUARDO GOMES                 & 777 & 270000621827 & CARLOS EDUARDO TORRES GOMES             & MASC. & 1966-04-28 &  22562992704 & ⋯ & NA & Eleito & GOVERNO DE ATITUDE                                & PHS / SOLIDARIEDADE / PP / DEM / PTC / PRB / AVANTE / PATRI / PROS                                                        & 5 & Senador & 77 & SOLIDARIEDADE & Solidariedade                           & APTO\\\\\n\\end{tabular}\n",
            "text/plain": [
              "   id           tabela  slug                         \n",
              "1   10000603058 senador petecao                      \n",
              "2   10000603061 senador marcio-bittar                \n",
              "3   20000616686 senador rodrigo-cunha                \n",
              "4   20000621738 senador renan                        \n",
              "5   30000607892 senador lucas-barreto                \n",
              "6   30000620104 senador randolfe                     \n",
              "7   40000603706 senador plinio-valerio               \n",
              "8   40000618261 senador eduardo-braga                \n",
              "9   50000607712 senador jaques-wagner                \n",
              "10  50000607716 senador angelo-coronel               \n",
              "11  60000610981 senador cid-gomes                    \n",
              "12  60000611597 senador eduardo-girao                \n",
              "13  70000614410 senador leila-do-volei               \n",
              "14  70000625515 senador izalci                       \n",
              "15  80000612948 senador fabiano-contarato            \n",
              "16  80000625508 senador marcos-do-val                \n",
              "17  90000609234 senador vanderlan                    \n",
              "18  90000613472 senador jorge-kajuru                 \n",
              "19 100000603920 senador weverton                     \n",
              "20 100000603923 senador eliziane-gama                \n",
              "21 110000612714 senador jayme-campos                 \n",
              "22 110000613185 senador juiza-selma-arruda           \n",
              "23 120000606866 senador nelsinho-trad                \n",
              "24 120000623873 senador soraya-thronicke             \n",
              "25 130000604556 senador rodrigo-pacheco              \n",
              "26 130000612381 senador jornalista-carlos-viana      \n",
              "27 140000621333 senador jader-barbalho               \n",
              "28 140000621337 senador zequinha-marinho             \n",
              "29 150000603510 senador veneziano                    \n",
              "30 150000615600 senador daniella-ribeiro             \n",
              "31 160000609227 senador professor-oriovisto-guimaraes\n",
              "32 160000609967 senador flavio-arns                  \n",
              "33 170000604548 senador humberto-costa               \n",
              "34 170000604551 senador jarbas                       \n",
              "35 180000614004 senador ciro-nogueira                \n",
              "36 180000614005 senador marcelo-castro               \n",
              "37 190000607913 senador arolde-de-oliveira           \n",
              "38 190000614721 senador flavio-bolsonaro             \n",
              "39 200000606729 senador dr-zenaide-maia              \n",
              "40 200000626720 senador capitao-styvenson            \n",
              "41 210000606445 senador paulo-paim                   \n",
              "42 210000622364 senador luis-carlos-heinze           \n",
              "43 220000609853 senador marcos-rogerio               \n",
              "44 220000618467 senador confucio-moura               \n",
              "45 230000601673 senador chico-rodrigues              \n",
              "46 230000609420 senador mecias-de-jesus              \n",
              "47 240000609539 senador jorginho-mello               \n",
              "48 240000621326 senador esperidiao-amin              \n",
              "49 250000612593 senador mara-gabrilli                \n",
              "50 250000615466 senador major-olimpio                \n",
              "51 260000601810 senador delegado-alessandro-vieira   \n",
              "52 260000623617 senador rogerio-carvalho-santos      \n",
              "53 270000626087 senador iraja                        \n",
              "54 270000629454 senador eduardo-gomes                \n",
              "   nomeUrna                      numero idCandidatoSuperior\n",
              "1  PETECÃO                       555               0       \n",
              "2  MÁRCIO BITTAR                 151               0       \n",
              "3  RODRIGO CUNHA                 456               0       \n",
              "4  RENAN                         151               0       \n",
              "5  LUCAS BARRETO                 147               0       \n",
              "6  RANDOLFE                      180               0       \n",
              "7  PLINIO VALERIO                455               0       \n",
              "8  EDUARDO BRAGA                 155               0       \n",
              "9  JAQUES WAGNER                 130     50000620039       \n",
              "10 ANGELO CORONEL                555     50000620038       \n",
              "11 CID GOMES                     123               0       \n",
              "12 EDUARDO GIRÃO                 900               0       \n",
              "13 LEILA DO VÔLEI                408               0       \n",
              "14 IZALCI                        456               0       \n",
              "15 FABIANO CONTARATO             181               0       \n",
              "16 MARCOS DO VAL                 234               0       \n",
              "17 VANDERLAN                     111               0       \n",
              "18 JORGE KAJURU                  444               0       \n",
              "19 WEVERTON                      123               0       \n",
              "20 ELIZIANE GAMA                 232               0       \n",
              "21 JAYME CAMPOS                  251               0       \n",
              "22 JUIZA SELMA ARRUDA            170               0       \n",
              "23 NELSINHO TRAD                 144               0       \n",
              "24 SORAYA THRONICKE              177               0       \n",
              "25 RODRIGO PACHECO               250               0       \n",
              "26 JORNALISTA CARLOS VIANA       310               0       \n",
              "27 JADER BARBALHO                151               0       \n",
              "28 ZEQUINHA MARINHO              200               0       \n",
              "29 VENEZIANO                     400               0       \n",
              "30 DANIELLA RIBEIRO              111               0       \n",
              "31 PROFESSOR ORIOVISTO GUIMARAES 191               0       \n",
              "32 FLAVIO ARNS                   181               0       \n",
              "33 HUMBERTO COSTA                130               0       \n",
              "34 JARBAS                        156               0       \n",
              "35 CIRO NOGUEIRA                 111    180000613920       \n",
              "36 MARCELO CASTRO                151    180000613904       \n",
              "37 AROLDE DE OLIVEIRA            555               0       \n",
              "38 FLÁVIO BOLSONARO              177               0       \n",
              "39 DRª ZENAIDE MAIA              313               0       \n",
              "40 CAPITÃO STYVENSON             180               0       \n",
              "41 PAULO PAIM                    131               0       \n",
              "42 LUIS CARLOS HEINZE            111               0       \n",
              "43 MARCOS ROGÉRIO                255               0       \n",
              "44 CONFUCIO MOURA                152               0       \n",
              "45 CHICO RODRIGUES               255               0       \n",
              "46 MECIAS DE JESUS               107               0       \n",
              "47 JORGINHO MELLO                222               0       \n",
              "48 ESPERIDIÃO AMIN               111               0       \n",
              "49 MARA GABRILLI                 457               0       \n",
              "50 MAJOR OLIMPIO                 177               0       \n",
              "51 DELEGADO ALESSANDRO VIEIRA    181               0       \n",
              "52 ROGERIO CARVALHO SANTOS       131               0       \n",
              "53 IRAJÁ                         555               0       \n",
              "54 EDUARDO GOMES                 777    270000621827       \n",
              "   nomeCompleto                            descricaoSexo dataDeNascimento\n",
              "1  SÉRGIO DE OLIVEIRA CUNHA                MASC.         1960-04-20      \n",
              "2  MARCIO MIGUEL BITTAR                    MASC.         1963-06-28      \n",
              "3  RODRIGO SANTOS CUNHA                    MASC.         1981-05-11      \n",
              "4  JOSÉ RENAN VASCONCELOS CALHEIROS        MASC.         1955-09-16      \n",
              "5  LUIZ CANTUÁRIA BARRETO                  MASC.         1964-11-10      \n",
              "6  RANDOLPH FREDERICH RODRIGUES ALVES      MASC.         1972-11-06      \n",
              "7  FRANCISCO PLINIO VALERIO TOMAZ          MASC.         1955-01-31      \n",
              "8  CARLOS EDUARDO DE SOUZA BRAGA           MASC.         1960-12-06      \n",
              "9  JAQUES WAGNER                           MASC.         1951-03-16      \n",
              "10 ANGELO MARIO CORONEL DE AZEVEDO MARTINS MASC.         1958-05-03      \n",
              "11 CID FERREIRA GOMES                      MASC.         1963-04-27      \n",
              "12 LUIS EDUARDO GRANGEIRO GIRÃO            MASC.         1972-09-25      \n",
              "13 LEILA GOMES DE BARROS RÊGO              FEM.          1971-09-30      \n",
              "14 IZALCI LUCAS FERREIRA                   MASC.         1956-04-07      \n",
              "15 FABIANO CONTARATO                       MASC.         1966-06-20      \n",
              "16 MARCOS RIBEIRO DO VAL                   MASC.         1971-06-15      \n",
              "17 VANDERLAN VIEIRA CARDOSO                MASC.         1962-11-15      \n",
              "18 JORGE KAJURU REIS DA COSTA NASSER       MASC.         1961-01-20      \n",
              "19 WEVERTON ROCHA MARQUES DE SOUSA         MASC.         1979-10-08      \n",
              "20 ELIZIANE PEREIRA GAMA MELO              FEM.          1977-02-27      \n",
              "21 JAYME VERISSIMO DE CAMPOS               MASC.         1951-09-13      \n",
              "22 SELMA ROSANE SANTOS ARRUDA              FEM.          1963-01-20      \n",
              "23 NELSON TRAD FILHO                       MASC.         1961-09-05      \n",
              "24 SORAYA VIEIRA THRONICKE                 FEM.          1973-06-01      \n",
              "25 RODRIGO OTÁVIO SOARES PACHECO           MASC.         1976-11-03      \n",
              "26 CARLOS ALBERTO DIAS VIANA               MASC.         1963-03-22      \n",
              "27 JADER FONTENELLE BARBALHO               MASC.         1944-10-27      \n",
              "28 JOSÉ DA CRUZ MARINHO                    MASC.         1959-09-18      \n",
              "29 VENEZIANO VITAL DO RÊGO SEGUNDO NETO    MASC.         1970-07-17      \n",
              "30 DANIELLA VELLOSO BORGES RIBEIRO         FEM.          1972-03-26      \n",
              "31 ORIOVISTO GUIMARAES                     MASC.         1945-08-12      \n",
              "32 FLAVIO JOSE ARNS                        MASC.         1950-11-09      \n",
              "33 HUMBERTO SÉRGIO COSTA LIMA              MASC.         1957-07-07      \n",
              "34 JARBAS DE ANDRADE VASCONCELOS           MASC.         1942-08-23      \n",
              "35 CIRO NOGUEIRA LIMA FILHO                MASC.         1968-11-21      \n",
              "36 MARCELO COSTA E CASTRO                  MASC.         1950-06-09      \n",
              "37 AROLDE DE OLIVEIRA                      MASC.         1937-03-11      \n",
              "38 FLÁVIO NANTES BOLSONARO                 MASC.         1981-04-30      \n",
              "39 ZENAIDE MAIA CALADO PEREIRA DOS SANTOS  FEM.          1954-11-27      \n",
              "40 EANN STYVENSON VALENTIM MENDES          MASC.         1977-02-07      \n",
              "41 PAULO RENATO PAIM                       MASC.         1950-03-15      \n",
              "42 LUIS CARLOS HEINZE                      MASC.         1950-09-14      \n",
              "43 MARCOS ROGÉRIO DA SILVA BRITO           MASC.         1978-07-07      \n",
              "44 CONFUCIO AIRES MOURA                    MASC.         1948-05-16      \n",
              "45 FRANCISCO DE ASSIS RODRIGUES            MASC.         1951-04-23      \n",
              "46 ANTÔNIO MECIAS PEREIRA DE JESUS         MASC.         1962-02-08      \n",
              "47 JORGINHO DOS SANTOS MELLO               MASC.         1956-07-15      \n",
              "48 ESPERIDIÃO AMIN HELOU FILHO             MASC.         1947-12-21      \n",
              "49 MARA CRISTINA GABRILLI                  FEM.          1967-09-28      \n",
              "50 SERGIO OLIMPIO GOMES                    MASC.         1962-03-20      \n",
              "51 ALESSANDRO VIEIRA                       MASC.         1975-04-03      \n",
              "52 ROGERIO CARVALHO SANTOS                 MASC.         1968-08-02      \n",
              "53 IRAJÁ SILVESTRE FILHO                   MASC.         1983-02-03      \n",
              "54 CARLOS EDUARDO TORRES GOMES             MASC.         1966-04-28      \n",
              "   tituloEleitor ⋯ fotoDataUltimaAtualizacao descricaoTotalizacao\n",
              "1     825962445  ⋯ NA                        Eleito              \n",
              "2     259632429  ⋯ NA                        Eleito              \n",
              "3   27208171767  ⋯ NA                        Eleito              \n",
              "4    5448401791  ⋯ NA                        Eleito              \n",
              "5      89892534  ⋯ NA                        Eleito              \n",
              "6    1331132526  ⋯ NA                        Eleito              \n",
              "7     854162267  ⋯ NA                        Eleito              \n",
              "8    2430682216  ⋯ NA                        Eleito              \n",
              "9   38496250590  ⋯ NA                        Eleito              \n",
              "10  30402880531  ⋯ NA                        Eleito              \n",
              "11   9288930779  ⋯ NA                        Eleito              \n",
              "12  33294250795  ⋯ NA                        Eleito              \n",
              "13  99971460213  ⋯ NA                        Eleito              \n",
              "14   6274332011  ⋯ NA                        Eleito              \n",
              "15   8234071481  ⋯ NA                        Eleito              \n",
              "16  14071901481  ⋯ NA                        Eleito              \n",
              "17   1300232674  ⋯ NA                        Eleito              \n",
              "18  37777141090  ⋯ NA                        Eleito              \n",
              "19  33785831104  ⋯ NA                        Eleito              \n",
              "20  31142001112  ⋯ NA                        Eleito              \n",
              "21   8104391856  ⋯ NA                        Eleito              \n",
              "22   3174701805  ⋯ NA                        Eleito              \n",
              "23   3230671988  ⋯ NA                        Eleito              \n",
              "24  13250921929  ⋯ NA                        Eleito              \n",
              "25 114662440248  ⋯ NA                        Eleito              \n",
              "26  92829170213  ⋯ NA                        Eleito              \n",
              "27  12453171309  ⋯ NA                        Eleito              \n",
              "28   8226021341  ⋯ NA                        Eleito              \n",
              "29  16146621201  ⋯ NA                        Eleito              \n",
              "30  18882051260  ⋯ NA                        Eleito              \n",
              "31    655290655  ⋯ NA                        Eleito              \n",
              "32   4675000620  ⋯ NA                        Eleito              \n",
              "33   5504040809  ⋯ NA                        Eleito              \n",
              "34   3358090876  ⋯ NA                        Eleito              \n",
              "35  20499931503  ⋯ NA                        Eleito              \n",
              "36    123561503  ⋯ NA                        Eleito              \n",
              "37   2597020302  ⋯ NA                        Eleito              \n",
              "38 108563260302  ⋯ NA                        Eleito              \n",
              "39   1224541694  ⋯ NA                        Eleito              \n",
              "40  18759881627  ⋯ NA                        Eleito              \n",
              "41  32745760418  ⋯ NA                        Eleito              \n",
              "42   9353970469  ⋯ NA                        Eleito              \n",
              "43   9557492305  ⋯ NA                        Eleito              \n",
              "44   2025122348  ⋯ NA                        Eleito              \n",
              "45     27052674  ⋯ NA                        Eleito              \n",
              "46     92352658  ⋯ NA                        Eleito              \n",
              "47   7894870922  ⋯ NA                        Eleito              \n",
              "48   5399180914  ⋯ NA                        Eleito              \n",
              "49 100632050108  ⋯ NA                        Eleito              \n",
              "50  83386310191  ⋯ NA                        Eleito              \n",
              "51  18291022135  ⋯ NA                        Eleito              \n",
              "52 173753480159  ⋯ NA                        Eleito              \n",
              "53  36229682771  ⋯ NA                        Eleito              \n",
              "54  22562992704  ⋯ NA                        Eleito              \n",
              "   nomeColigacao                                    \n",
              "1  MUDANÇA E COMPETÊNCIA                            \n",
              "2  MUDANÇA E COMPETÊNCIA                            \n",
              "3  Alagoas com o Povo                               \n",
              "4  Avança Mais Alagoas                              \n",
              "5  PTB                                              \n",
              "6  TRABALHO E UNIÃO PELO AMAPÁ                      \n",
              "7  AMAZONAS COM SEGURANÇA                           \n",
              "8  MDB                                              \n",
              "9  MAIS TRABALHO POR TODA A BAHIA                   \n",
              "10 MAIS TRABALHO POR TODA A BAHIA                   \n",
              "11 POR UM CEARA CADA VEZ MAIS FORTE                 \n",
              "12 TÁ NA HORA DE MUDAR                              \n",
              "13 Brasília de Mãos Limpas                          \n",
              "14 CORAGEM E RESPEITO PELO POVO                     \n",
              "15 UM NOVO CAMINHO PARA O ESPÍRITO SANTO            \n",
              "16 ESPIRITO SANTO MAIS IGUAL                        \n",
              "17 NOVAS IDEIAS NOVO GOIÁS                          \n",
              "18 A MUDANÇA É AGORA                                \n",
              "19 TODOS PELO MARANHÃO                              \n",
              "20 TODOS PELO MARANHÃO                              \n",
              "21 PRA MUDAR MATO GROSSO                            \n",
              "22 COLIGAÇÃO SEGUE EM FRENTE MATO GROSSO            \n",
              "23 AVANÇAR COM RESPONSABILIDADE                     \n",
              "24 PSL                                              \n",
              "25 RECONSTRUIR MINAS                                \n",
              "26 PHS                                              \n",
              "27 O PARÁ DAQUI PRA FRENTE                          \n",
              "28 O PARÁ DAQUI PRA FRENTE                          \n",
              "29 A FORÇA DO TRABALHO                              \n",
              "30 Força da Esperança                               \n",
              "31 PARANA INOVADOR                                  \n",
              "32 Coligação do bem e da verdade para mudar o Paraná\n",
              "33 FRENTE POPULAR DE PERNAMBUCO                     \n",
              "34 FRENTE POPULAR DE PERNAMBUCO                     \n",
              "35 A Vitória Com a Força do Povo                    \n",
              "36 A Vitória Com a Força do Povo                    \n",
              "37 PSD                                              \n",
              "38 PSL                                              \n",
              "39 DO LADO CERTO                                    \n",
              "40 REDE                                             \n",
              "41 POR UM RIO GRANDE JUSTO                          \n",
              "42 RIO GRANDE DA GENTE                              \n",
              "43 RONDÔNIA, ESPERANÇA DE UM NOVO TEMPO             \n",
              "44 RONDONIA, UNIDOS SOMOS FORTES                    \n",
              "45 TODOS POR RORAIMA                                \n",
              "46 AGORA É RORAIMA COM TUDO                         \n",
              "47 SANTA CATARINA QUER MAIS                         \n",
              "48 AQUI É TRABALHO                                  \n",
              "49 AceleraSP                                        \n",
              "50 SÃO PAULO ACIMA DE TUDO, DEUS ACIMA DE TODOS     \n",
              "51 REDE                                             \n",
              "52 PRA SERGIPE AVANÇAR                              \n",
              "53 Coligação Frente Alternativa                     \n",
              "54 GOVERNO DE ATITUDE                               \n",
              "   composicaoColigacao                                                                                                      \n",
              "1  PP / MDB / PSDB / DEM / PSD / PTB / PMN / SOLIDARIEDADE / PTC / PR / PPS                                                 \n",
              "2  PP / MDB / PSDB / DEM / PSD / PTB / PMN / SOLIDARIEDADE / PTC / PR / PPS                                                 \n",
              "3  PTC / PSDB / PP / PSB / PSC / PROS / PRB / DEM                                                                           \n",
              "4  MDB / PODE / PPS / PDT / PR / PTB / PHS / PT / PV / PRP / PRTB / PSD / DC / PC do B / AVANTE / PMN / SOLIDARIEDADE       \n",
              "5  **                                                                                                                       \n",
              "6  DEM / REDE / PSDB / PPL / PP / PSC / AVANTE / PSD / PODE / SOLIDARIEDADE                                                 \n",
              "7  PSD / PSDB / DEM / PRB / PTC / PATRI                                                                                     \n",
              "8  **                                                                                                                       \n",
              "9  PT / PP / PDT / PSD / PSB / PC do B / PR / PMB / PRP / PODE / AVANTE / PMN / PROS / PTC                                  \n",
              "10 PT / PP / PDT / PSD / PSB / PC do B / PR / PMB / PRP / PODE / AVANTE / PMN / PROS / PTC                                  \n",
              "11 PT / PDT / PP / PSB / PR / PTB / DEM / PC do B / PPS / PRP / PV / PMN / PPL / PATRI / PRTB / PMB                         \n",
              "12 PSDB / PROS                                                                                                              \n",
              "13 PSB / PV / PC do B / PDT / REDE                                                                                          \n",
              "14 PR / PSDB / DEM / DC                                                                                                     \n",
              "15 PRTB / REDE / PODE / MDB / PMN / PATRI                                                                                   \n",
              "16 PSB / PHS / PROS / PV / PSC / AVANTE / PTC / PPS / PSDB / DEM / PDT / PP / PC do B / PPL / DC / SOLIDARIEDADE / PRP / PSD\n",
              "17 MDB / PRB / PHS / PP                                                                                                     \n",
              "18 DEM / PRP / PROS / PMN / PMB / PSC / DC / PSL / PODE / PTC / PRTB / PDT                                                  \n",
              "19 PC do B / PRB / PDT / PPS / DEM / PSB / PR / PP / PROS / PT / PTB / PATRI / PTC / SOLIDARIEDADE / PPL / AVANTE           \n",
              "20 PC do B / PRB / PDT / PPS / DEM / PSB / PR / PP / PROS / PT / PTB / PATRI / PTC / SOLIDARIEDADE / PPL / AVANTE           \n",
              "21 DEM / PSD / PDT / PSC / MDB / PMB / PHS / PTC                                                                            \n",
              "22 PSL / PPS / PSB / DC / PRP / PSDB / PATRI / AVANTE / SOLIDARIEDADE                                                       \n",
              "23 PMN / DEM / PP / PSB / PTB / PSDB / PATRI / PSD / PPS / AVANTE / SOLIDARIEDADE / PROS                                    \n",
              "24 **                                                                                                                       \n",
              "25 PSDB / PSD / SOLIDARIEDADE / PTB / PPS / PMN / PSC / DEM / PP / PTC / PATRI / PMB                                        \n",
              "26 **                                                                                                                       \n",
              "27 MDB / PP / PRB / PR / PSC / PTB / PHS / PMB / PODE / DC / PTC / PATRI / PSD / AVANTE / PSL / PROS                        \n",
              "28 MDB / PP / PRB / PR / PSC / PTB / PHS / PMB / PODE / DC / PTC / PATRI / PSD / AVANTE / PSL / PROS                        \n",
              "29 PSB / PDT / PT / DEM / PTB / PRP / PODE / PRB / PC do B / AVANTE / PPS / REDE / PMN / PROS                               \n",
              "30 PV / PSDB / PP / PSD / PSC / SOLIDARIEDADE / DC / PRTB / PHS / PTC / PSL / PPL                                           \n",
              "31 PSD / PSC / PV / PR / PRB / PHS / PPS / PODE / AVANTE                                                                    \n",
              "32 REDE / DC / PPL                                                                                                          \n",
              "33 PSB / PC do B / PT / MDB / PP / PR / PMN / PTC / PRP / PATRI / PSD / PPL / SOLIDARIEDADE                                 \n",
              "34 PSB / PC do B / PT / MDB / PP / PR / PMN / PTC / PRP / PATRI / PSD / PPL / SOLIDARIEDADE                                 \n",
              "35 PT / MDB / PP / PR / PDT / PSD / PC do B / PTB / PRTB                                                                    \n",
              "36 PT / MDB / PP / PR / PDT / PSD / PC do B / PTB / PRTB                                                                    \n",
              "37 **                                                                                                                       \n",
              "38 **                                                                                                                       \n",
              "39 PT / PC do B / PHS                                                                                                       \n",
              "40 **                                                                                                                       \n",
              "41 PT / PC do B                                                                                                             \n",
              "42 PSDB / PTB / PRB / PPS / PHS / REDE / PP                                                                                 \n",
              "43 PSDB / DEM / PSD / PRB / PATRI                                                                                           \n",
              "44 MDB / PODE / PMN / PSC / PC do B / PHS / PROS / PV                                                                       \n",
              "45 PSDB / DEM / MDB / PSD / PPS / SOLIDARIEDADE / DC                                                                        \n",
              "46 PSL / PRB / PTC / PRP / PROS / PSC / PPL / PATRI                                                                         \n",
              "47 MDB / AVANTE / PSDB / PTB / PTC / PRTB / DC / PR / PPS                                                                   \n",
              "48 PSD / PRB / PDT / PSB / PODE / SOLIDARIEDADE / PROS / PSC / PC do B / PHS / PP / DEM / PRP / PPL / PV                    \n",
              "49 PSDB / DEM / PSD / PRB / PP / PTC                                                                                        \n",
              "50 PRTB / PSL                                                                                                               \n",
              "51 **                                                                                                                       \n",
              "52 PP / MDB / DC / PC do B / PSD / PT / PHS                                                                                 \n",
              "53 REDE / PRTB / PTB / PC do B / PT / PV / PDT / PSD                                                                        \n",
              "54 PHS / SOLIDARIEDADE / PP / DEM / PTC / PRB / AVANTE / PATRI / PROS                                                       \n",
              "   cargo_codigo cargo_nome partido_numero partido_sigla\n",
              "1  5            Senador    55             PSD          \n",
              "2  5            Senador    15             MDB          \n",
              "3  5            Senador    45             PSDB         \n",
              "4  5            Senador    15             MDB          \n",
              "5  5            Senador    14             PTB          \n",
              "6  5            Senador    18             REDE         \n",
              "7  5            Senador    45             PSDB         \n",
              "8  5            Senador    15             MDB          \n",
              "9  5            Senador    13             PT           \n",
              "10 5            Senador    55             PSD          \n",
              "11 5            Senador    12             PDT          \n",
              "12 5            Senador    90             PROS         \n",
              "13 5            Senador    40             PSB          \n",
              "14 5            Senador    45             PSDB         \n",
              "15 5            Senador    18             REDE         \n",
              "16 5            Senador    23             PPS          \n",
              "17 5            Senador    11             PP           \n",
              "18 5            Senador    44             PRP          \n",
              "19 5            Senador    12             PDT          \n",
              "20 5            Senador    23             PPS          \n",
              "21 5            Senador    25             DEM          \n",
              "22 5            Senador    17             PSL          \n",
              "23 5            Senador    14             PTB          \n",
              "24 5            Senador    17             PSL          \n",
              "25 5            Senador    25             DEM          \n",
              "26 5            Senador    31             PHS          \n",
              "27 5            Senador    15             MDB          \n",
              "28 5            Senador    20             PSC          \n",
              "29 5            Senador    40             PSB          \n",
              "30 5            Senador    11             PP           \n",
              "31 5            Senador    19             PODE         \n",
              "32 5            Senador    18             REDE         \n",
              "33 5            Senador    13             PT           \n",
              "34 5            Senador    15             MDB          \n",
              "35 5            Senador    11             PP           \n",
              "36 5            Senador    15             MDB          \n",
              "37 5            Senador    55             PSD          \n",
              "38 5            Senador    17             PSL          \n",
              "39 5            Senador    31             PHS          \n",
              "40 5            Senador    18             REDE         \n",
              "41 5            Senador    13             PT           \n",
              "42 5            Senador    11             PP           \n",
              "43 5            Senador    25             DEM          \n",
              "44 5            Senador    15             MDB          \n",
              "45 5            Senador    25             DEM          \n",
              "46 5            Senador    10             PRB          \n",
              "47 5            Senador    22             PR           \n",
              "48 5            Senador    11             PP           \n",
              "49 5            Senador    45             PSDB         \n",
              "50 5            Senador    17             PSL          \n",
              "51 5            Senador    18             REDE         \n",
              "52 5            Senador    13             PT           \n",
              "53 5            Senador    55             PSD          \n",
              "54 5            Senador    77             SOLIDARIEDADE\n",
              "   partido_nome                            descricaoSituacaoCandidato\n",
              "1  Partido Social Democrático              APTO                      \n",
              "2  Movimento Democrático Brasileiro        APTO                      \n",
              "3  Partido da Social Democracia Brasileira APTO                      \n",
              "4  Movimento Democrático Brasileiro        APTO                      \n",
              "5  Partido Trabalhista Brasileiro          APTO                      \n",
              "6  Rede Sustentabilidade                   APTO                      \n",
              "7  Partido da Social Democracia Brasileira APTO                      \n",
              "8  Movimento Democrático Brasileiro        APTO                      \n",
              "9  Partido dos Trabalhadores               APTO                      \n",
              "10 Partido Social Democrático              APTO                      \n",
              "11 Partido Democrático Trabalhista         APTO                      \n",
              "12 Partido Republicano da Ordem Social     APTO                      \n",
              "13 Partido Socialista Brasileiro           APTO                      \n",
              "14 Partido da Social Democracia Brasileira APTO                      \n",
              "15 Rede Sustentabilidade                   APTO                      \n",
              "16 Partido Popular Socialista              APTO                      \n",
              "17 Partido Progressista                    APTO                      \n",
              "18 Partido Republicano Progressista        APTO                      \n",
              "19 Partido Democrático Trabalhista         APTO                      \n",
              "20 Partido Popular Socialista              APTO                      \n",
              "21 Democratas                              APTO                      \n",
              "22 Partido Social Liberal                  APTO                      \n",
              "23 Partido Trabalhista Brasileiro          APTO                      \n",
              "24 Partido Social Liberal                  APTO                      \n",
              "25 Democratas                              APTO                      \n",
              "26 Partido Humanista da Solidariedade      APTO                      \n",
              "27 Movimento Democrático Brasileiro        APTO                      \n",
              "28 Partido Social Cristão                  APTO                      \n",
              "29 Partido Socialista Brasileiro           APTO                      \n",
              "30 Partido Progressista                    APTO                      \n",
              "31 Podemos                                 APTO                      \n",
              "32 Rede Sustentabilidade                   APTO                      \n",
              "33 Partido dos Trabalhadores               APTO                      \n",
              "34 Movimento Democrático Brasileiro        APTO                      \n",
              "35 Partido Progressista                    APTO                      \n",
              "36 Movimento Democrático Brasileiro        APTO                      \n",
              "37 Partido Social Democrático              APTO                      \n",
              "38 Partido Social Liberal                  APTO                      \n",
              "39 Partido Humanista da Solidariedade      APTO                      \n",
              "40 Rede Sustentabilidade                   APTO                      \n",
              "41 Partido dos Trabalhadores               APTO                      \n",
              "42 Partido Progressista                    APTO                      \n",
              "43 Democratas                              APTO                      \n",
              "44 Movimento Democrático Brasileiro        APTO                      \n",
              "45 Democratas                              APTO                      \n",
              "46 Partido Republicano Brasileiro          APTO                      \n",
              "47 Partido da República                    APTO                      \n",
              "48 Partido Progressista                    APTO                      \n",
              "49 Partido da Social Democracia Brasileira APTO                      \n",
              "50 Partido Social Liberal                  APTO                      \n",
              "51 Rede Sustentabilidade                   APTO                      \n",
              "52 Partido dos Trabalhadores               APTO                      \n",
              "53 Partido Social Democrático              APTO                      \n",
              "54 Solidariedade                           APTO                      "
            ]
          },
          "metadata": {}
        }
      ]
    },
    {
      "cell_type": "code",
      "source": [
        "NomesPartido <- senado %>% select(nomeCompleto, partido_sigla)"
      ],
      "metadata": {
        "id": "MQa3N2anj8hb"
      },
      "execution_count": 8,
      "outputs": []
    },
    {
      "cell_type": "code",
      "source": [
        "NomesPartido %>% arrange(desc(partido_sigla))"
      ],
      "metadata": {
        "collapsed": true,
        "id": "iRFZO5EUW_hy",
        "colab": {
          "base_uri": "https://localhost:8080/",
          "height": 1000
        },
        "outputId": "c5d65986-84b7-4752-ecfe-b0deb664b99d"
      },
      "execution_count": 9,
      "outputs": [
        {
          "output_type": "display_data",
          "data": {
            "text/html": [
              "<table class=\"dataframe\">\n",
              "<caption>A data.frame: 54 × 2</caption>\n",
              "<thead>\n",
              "\t<tr><th scope=col>nomeCompleto</th><th scope=col>partido_sigla</th></tr>\n",
              "\t<tr><th scope=col>&lt;chr&gt;</th><th scope=col>&lt;chr&gt;</th></tr>\n",
              "</thead>\n",
              "<tbody>\n",
              "\t<tr><td>CARLOS EDUARDO TORRES GOMES            </td><td>SOLIDARIEDADE</td></tr>\n",
              "\t<tr><td>RANDOLPH FREDERICH RODRIGUES ALVES     </td><td>REDE         </td></tr>\n",
              "\t<tr><td>FABIANO CONTARATO                      </td><td>REDE         </td></tr>\n",
              "\t<tr><td>FLAVIO JOSE ARNS                       </td><td>REDE         </td></tr>\n",
              "\t<tr><td>EANN STYVENSON VALENTIM MENDES         </td><td>REDE         </td></tr>\n",
              "\t<tr><td>ALESSANDRO VIEIRA                      </td><td>REDE         </td></tr>\n",
              "\t<tr><td>LUIZ CANTUÁRIA BARRETO                 </td><td>PTB          </td></tr>\n",
              "\t<tr><td>NELSON TRAD FILHO                      </td><td>PTB          </td></tr>\n",
              "\t<tr><td>JAQUES WAGNER                          </td><td>PT           </td></tr>\n",
              "\t<tr><td>HUMBERTO SÉRGIO COSTA LIMA             </td><td>PT           </td></tr>\n",
              "\t<tr><td>PAULO RENATO PAIM                      </td><td>PT           </td></tr>\n",
              "\t<tr><td>ROGERIO CARVALHO SANTOS                </td><td>PT           </td></tr>\n",
              "\t<tr><td>SELMA ROSANE SANTOS ARRUDA             </td><td>PSL          </td></tr>\n",
              "\t<tr><td>SORAYA VIEIRA THRONICKE                </td><td>PSL          </td></tr>\n",
              "\t<tr><td>FLÁVIO NANTES BOLSONARO                </td><td>PSL          </td></tr>\n",
              "\t<tr><td>SERGIO OLIMPIO GOMES                   </td><td>PSL          </td></tr>\n",
              "\t<tr><td>RODRIGO SANTOS CUNHA                   </td><td>PSDB         </td></tr>\n",
              "\t<tr><td>FRANCISCO PLINIO VALERIO TOMAZ         </td><td>PSDB         </td></tr>\n",
              "\t<tr><td>IZALCI LUCAS FERREIRA                  </td><td>PSDB         </td></tr>\n",
              "\t<tr><td>MARA CRISTINA GABRILLI                 </td><td>PSDB         </td></tr>\n",
              "\t<tr><td>SÉRGIO DE OLIVEIRA CUNHA               </td><td>PSD          </td></tr>\n",
              "\t<tr><td>ANGELO MARIO CORONEL DE AZEVEDO MARTINS</td><td>PSD          </td></tr>\n",
              "\t<tr><td>AROLDE DE OLIVEIRA                     </td><td>PSD          </td></tr>\n",
              "\t<tr><td>IRAJÁ SILVESTRE FILHO                  </td><td>PSD          </td></tr>\n",
              "\t<tr><td>JOSÉ DA CRUZ MARINHO                   </td><td>PSC          </td></tr>\n",
              "\t<tr><td>LEILA GOMES DE BARROS RÊGO             </td><td>PSB          </td></tr>\n",
              "\t<tr><td>VENEZIANO VITAL DO RÊGO SEGUNDO NETO   </td><td>PSB          </td></tr>\n",
              "\t<tr><td>JORGE KAJURU REIS DA COSTA NASSER      </td><td>PRP          </td></tr>\n",
              "\t<tr><td>LUIS EDUARDO GRANGEIRO GIRÃO           </td><td>PROS         </td></tr>\n",
              "\t<tr><td>ANTÔNIO MECIAS PEREIRA DE JESUS        </td><td>PRB          </td></tr>\n",
              "\t<tr><td>JORGINHO DOS SANTOS MELLO              </td><td>PR           </td></tr>\n",
              "\t<tr><td>MARCOS RIBEIRO DO VAL                  </td><td>PPS          </td></tr>\n",
              "\t<tr><td>ELIZIANE PEREIRA GAMA MELO             </td><td>PPS          </td></tr>\n",
              "\t<tr><td>VANDERLAN VIEIRA CARDOSO               </td><td>PP           </td></tr>\n",
              "\t<tr><td>DANIELLA VELLOSO BORGES RIBEIRO        </td><td>PP           </td></tr>\n",
              "\t<tr><td>CIRO NOGUEIRA LIMA FILHO               </td><td>PP           </td></tr>\n",
              "\t<tr><td>LUIS CARLOS HEINZE                     </td><td>PP           </td></tr>\n",
              "\t<tr><td>ESPERIDIÃO AMIN HELOU FILHO            </td><td>PP           </td></tr>\n",
              "\t<tr><td>ORIOVISTO GUIMARAES                    </td><td>PODE         </td></tr>\n",
              "\t<tr><td>CARLOS ALBERTO DIAS VIANA              </td><td>PHS          </td></tr>\n",
              "\t<tr><td>ZENAIDE MAIA CALADO PEREIRA DOS SANTOS </td><td>PHS          </td></tr>\n",
              "\t<tr><td>CID FERREIRA GOMES                     </td><td>PDT          </td></tr>\n",
              "\t<tr><td>WEVERTON ROCHA MARQUES DE SOUSA        </td><td>PDT          </td></tr>\n",
              "\t<tr><td>MARCIO MIGUEL BITTAR                   </td><td>MDB          </td></tr>\n",
              "\t<tr><td>JOSÉ RENAN VASCONCELOS CALHEIROS       </td><td>MDB          </td></tr>\n",
              "\t<tr><td>CARLOS EDUARDO DE SOUZA BRAGA          </td><td>MDB          </td></tr>\n",
              "\t<tr><td>JADER FONTENELLE BARBALHO              </td><td>MDB          </td></tr>\n",
              "\t<tr><td>JARBAS DE ANDRADE VASCONCELOS          </td><td>MDB          </td></tr>\n",
              "\t<tr><td>MARCELO COSTA E CASTRO                 </td><td>MDB          </td></tr>\n",
              "\t<tr><td>CONFUCIO AIRES MOURA                   </td><td>MDB          </td></tr>\n",
              "\t<tr><td>JAYME VERISSIMO DE CAMPOS              </td><td>DEM          </td></tr>\n",
              "\t<tr><td>RODRIGO OTÁVIO SOARES PACHECO          </td><td>DEM          </td></tr>\n",
              "\t<tr><td>MARCOS ROGÉRIO DA SILVA BRITO          </td><td>DEM          </td></tr>\n",
              "\t<tr><td>FRANCISCO DE ASSIS RODRIGUES           </td><td>DEM          </td></tr>\n",
              "</tbody>\n",
              "</table>\n"
            ],
            "text/markdown": "\nA data.frame: 54 × 2\n\n| nomeCompleto &lt;chr&gt; | partido_sigla &lt;chr&gt; |\n|---|---|\n| CARLOS EDUARDO TORRES GOMES             | SOLIDARIEDADE |\n| RANDOLPH FREDERICH RODRIGUES ALVES      | REDE          |\n| FABIANO CONTARATO                       | REDE          |\n| FLAVIO JOSE ARNS                        | REDE          |\n| EANN STYVENSON VALENTIM MENDES          | REDE          |\n| ALESSANDRO VIEIRA                       | REDE          |\n| LUIZ CANTUÁRIA BARRETO                  | PTB           |\n| NELSON TRAD FILHO                       | PTB           |\n| JAQUES WAGNER                           | PT            |\n| HUMBERTO SÉRGIO COSTA LIMA              | PT            |\n| PAULO RENATO PAIM                       | PT            |\n| ROGERIO CARVALHO SANTOS                 | PT            |\n| SELMA ROSANE SANTOS ARRUDA              | PSL           |\n| SORAYA VIEIRA THRONICKE                 | PSL           |\n| FLÁVIO NANTES BOLSONARO                 | PSL           |\n| SERGIO OLIMPIO GOMES                    | PSL           |\n| RODRIGO SANTOS CUNHA                    | PSDB          |\n| FRANCISCO PLINIO VALERIO TOMAZ          | PSDB          |\n| IZALCI LUCAS FERREIRA                   | PSDB          |\n| MARA CRISTINA GABRILLI                  | PSDB          |\n| SÉRGIO DE OLIVEIRA CUNHA                | PSD           |\n| ANGELO MARIO CORONEL DE AZEVEDO MARTINS | PSD           |\n| AROLDE DE OLIVEIRA                      | PSD           |\n| IRAJÁ SILVESTRE FILHO                   | PSD           |\n| JOSÉ DA CRUZ MARINHO                    | PSC           |\n| LEILA GOMES DE BARROS RÊGO              | PSB           |\n| VENEZIANO VITAL DO RÊGO SEGUNDO NETO    | PSB           |\n| JORGE KAJURU REIS DA COSTA NASSER       | PRP           |\n| LUIS EDUARDO GRANGEIRO GIRÃO            | PROS          |\n| ANTÔNIO MECIAS PEREIRA DE JESUS         | PRB           |\n| JORGINHO DOS SANTOS MELLO               | PR            |\n| MARCOS RIBEIRO DO VAL                   | PPS           |\n| ELIZIANE PEREIRA GAMA MELO              | PPS           |\n| VANDERLAN VIEIRA CARDOSO                | PP            |\n| DANIELLA VELLOSO BORGES RIBEIRO         | PP            |\n| CIRO NOGUEIRA LIMA FILHO                | PP            |\n| LUIS CARLOS HEINZE                      | PP            |\n| ESPERIDIÃO AMIN HELOU FILHO             | PP            |\n| ORIOVISTO GUIMARAES                     | PODE          |\n| CARLOS ALBERTO DIAS VIANA               | PHS           |\n| ZENAIDE MAIA CALADO PEREIRA DOS SANTOS  | PHS           |\n| CID FERREIRA GOMES                      | PDT           |\n| WEVERTON ROCHA MARQUES DE SOUSA         | PDT           |\n| MARCIO MIGUEL BITTAR                    | MDB           |\n| JOSÉ RENAN VASCONCELOS CALHEIROS        | MDB           |\n| CARLOS EDUARDO DE SOUZA BRAGA           | MDB           |\n| JADER FONTENELLE BARBALHO               | MDB           |\n| JARBAS DE ANDRADE VASCONCELOS           | MDB           |\n| MARCELO COSTA E CASTRO                  | MDB           |\n| CONFUCIO AIRES MOURA                    | MDB           |\n| JAYME VERISSIMO DE CAMPOS               | DEM           |\n| RODRIGO OTÁVIO SOARES PACHECO           | DEM           |\n| MARCOS ROGÉRIO DA SILVA BRITO           | DEM           |\n| FRANCISCO DE ASSIS RODRIGUES            | DEM           |\n\n",
            "text/latex": "A data.frame: 54 × 2\n\\begin{tabular}{ll}\n nomeCompleto & partido\\_sigla\\\\\n <chr> & <chr>\\\\\n\\hline\n\t CARLOS EDUARDO TORRES GOMES             & SOLIDARIEDADE\\\\\n\t RANDOLPH FREDERICH RODRIGUES ALVES      & REDE         \\\\\n\t FABIANO CONTARATO                       & REDE         \\\\\n\t FLAVIO JOSE ARNS                        & REDE         \\\\\n\t EANN STYVENSON VALENTIM MENDES          & REDE         \\\\\n\t ALESSANDRO VIEIRA                       & REDE         \\\\\n\t LUIZ CANTUÁRIA BARRETO                  & PTB          \\\\\n\t NELSON TRAD FILHO                       & PTB          \\\\\n\t JAQUES WAGNER                           & PT           \\\\\n\t HUMBERTO SÉRGIO COSTA LIMA              & PT           \\\\\n\t PAULO RENATO PAIM                       & PT           \\\\\n\t ROGERIO CARVALHO SANTOS                 & PT           \\\\\n\t SELMA ROSANE SANTOS ARRUDA              & PSL          \\\\\n\t SORAYA VIEIRA THRONICKE                 & PSL          \\\\\n\t FLÁVIO NANTES BOLSONARO                 & PSL          \\\\\n\t SERGIO OLIMPIO GOMES                    & PSL          \\\\\n\t RODRIGO SANTOS CUNHA                    & PSDB         \\\\\n\t FRANCISCO PLINIO VALERIO TOMAZ          & PSDB         \\\\\n\t IZALCI LUCAS FERREIRA                   & PSDB         \\\\\n\t MARA CRISTINA GABRILLI                  & PSDB         \\\\\n\t SÉRGIO DE OLIVEIRA CUNHA                & PSD          \\\\\n\t ANGELO MARIO CORONEL DE AZEVEDO MARTINS & PSD          \\\\\n\t AROLDE DE OLIVEIRA                      & PSD          \\\\\n\t IRAJÁ SILVESTRE FILHO                   & PSD          \\\\\n\t JOSÉ DA CRUZ MARINHO                    & PSC          \\\\\n\t LEILA GOMES DE BARROS RÊGO              & PSB          \\\\\n\t VENEZIANO VITAL DO RÊGO SEGUNDO NETO    & PSB          \\\\\n\t JORGE KAJURU REIS DA COSTA NASSER       & PRP          \\\\\n\t LUIS EDUARDO GRANGEIRO GIRÃO            & PROS         \\\\\n\t ANTÔNIO MECIAS PEREIRA DE JESUS         & PRB          \\\\\n\t JORGINHO DOS SANTOS MELLO               & PR           \\\\\n\t MARCOS RIBEIRO DO VAL                   & PPS          \\\\\n\t ELIZIANE PEREIRA GAMA MELO              & PPS          \\\\\n\t VANDERLAN VIEIRA CARDOSO                & PP           \\\\\n\t DANIELLA VELLOSO BORGES RIBEIRO         & PP           \\\\\n\t CIRO NOGUEIRA LIMA FILHO                & PP           \\\\\n\t LUIS CARLOS HEINZE                      & PP           \\\\\n\t ESPERIDIÃO AMIN HELOU FILHO             & PP           \\\\\n\t ORIOVISTO GUIMARAES                     & PODE         \\\\\n\t CARLOS ALBERTO DIAS VIANA               & PHS          \\\\\n\t ZENAIDE MAIA CALADO PEREIRA DOS SANTOS  & PHS          \\\\\n\t CID FERREIRA GOMES                      & PDT          \\\\\n\t WEVERTON ROCHA MARQUES DE SOUSA         & PDT          \\\\\n\t MARCIO MIGUEL BITTAR                    & MDB          \\\\\n\t JOSÉ RENAN VASCONCELOS CALHEIROS        & MDB          \\\\\n\t CARLOS EDUARDO DE SOUZA BRAGA           & MDB          \\\\\n\t JADER FONTENELLE BARBALHO               & MDB          \\\\\n\t JARBAS DE ANDRADE VASCONCELOS           & MDB          \\\\\n\t MARCELO COSTA E CASTRO                  & MDB          \\\\\n\t CONFUCIO AIRES MOURA                    & MDB          \\\\\n\t JAYME VERISSIMO DE CAMPOS               & DEM          \\\\\n\t RODRIGO OTÁVIO SOARES PACHECO           & DEM          \\\\\n\t MARCOS ROGÉRIO DA SILVA BRITO           & DEM          \\\\\n\t FRANCISCO DE ASSIS RODRIGUES            & DEM          \\\\\n\\end{tabular}\n",
            "text/plain": [
              "   nomeCompleto                            partido_sigla\n",
              "1  CARLOS EDUARDO TORRES GOMES             SOLIDARIEDADE\n",
              "2  RANDOLPH FREDERICH RODRIGUES ALVES      REDE         \n",
              "3  FABIANO CONTARATO                       REDE         \n",
              "4  FLAVIO JOSE ARNS                        REDE         \n",
              "5  EANN STYVENSON VALENTIM MENDES          REDE         \n",
              "6  ALESSANDRO VIEIRA                       REDE         \n",
              "7  LUIZ CANTUÁRIA BARRETO                  PTB          \n",
              "8  NELSON TRAD FILHO                       PTB          \n",
              "9  JAQUES WAGNER                           PT           \n",
              "10 HUMBERTO SÉRGIO COSTA LIMA              PT           \n",
              "11 PAULO RENATO PAIM                       PT           \n",
              "12 ROGERIO CARVALHO SANTOS                 PT           \n",
              "13 SELMA ROSANE SANTOS ARRUDA              PSL          \n",
              "14 SORAYA VIEIRA THRONICKE                 PSL          \n",
              "15 FLÁVIO NANTES BOLSONARO                 PSL          \n",
              "16 SERGIO OLIMPIO GOMES                    PSL          \n",
              "17 RODRIGO SANTOS CUNHA                    PSDB         \n",
              "18 FRANCISCO PLINIO VALERIO TOMAZ          PSDB         \n",
              "19 IZALCI LUCAS FERREIRA                   PSDB         \n",
              "20 MARA CRISTINA GABRILLI                  PSDB         \n",
              "21 SÉRGIO DE OLIVEIRA CUNHA                PSD          \n",
              "22 ANGELO MARIO CORONEL DE AZEVEDO MARTINS PSD          \n",
              "23 AROLDE DE OLIVEIRA                      PSD          \n",
              "24 IRAJÁ SILVESTRE FILHO                   PSD          \n",
              "25 JOSÉ DA CRUZ MARINHO                    PSC          \n",
              "26 LEILA GOMES DE BARROS RÊGO              PSB          \n",
              "27 VENEZIANO VITAL DO RÊGO SEGUNDO NETO    PSB          \n",
              "28 JORGE KAJURU REIS DA COSTA NASSER       PRP          \n",
              "29 LUIS EDUARDO GRANGEIRO GIRÃO            PROS         \n",
              "30 ANTÔNIO MECIAS PEREIRA DE JESUS         PRB          \n",
              "31 JORGINHO DOS SANTOS MELLO               PR           \n",
              "32 MARCOS RIBEIRO DO VAL                   PPS          \n",
              "33 ELIZIANE PEREIRA GAMA MELO              PPS          \n",
              "34 VANDERLAN VIEIRA CARDOSO                PP           \n",
              "35 DANIELLA VELLOSO BORGES RIBEIRO         PP           \n",
              "36 CIRO NOGUEIRA LIMA FILHO                PP           \n",
              "37 LUIS CARLOS HEINZE                      PP           \n",
              "38 ESPERIDIÃO AMIN HELOU FILHO             PP           \n",
              "39 ORIOVISTO GUIMARAES                     PODE         \n",
              "40 CARLOS ALBERTO DIAS VIANA               PHS          \n",
              "41 ZENAIDE MAIA CALADO PEREIRA DOS SANTOS  PHS          \n",
              "42 CID FERREIRA GOMES                      PDT          \n",
              "43 WEVERTON ROCHA MARQUES DE SOUSA         PDT          \n",
              "44 MARCIO MIGUEL BITTAR                    MDB          \n",
              "45 JOSÉ RENAN VASCONCELOS CALHEIROS        MDB          \n",
              "46 CARLOS EDUARDO DE SOUZA BRAGA           MDB          \n",
              "47 JADER FONTENELLE BARBALHO               MDB          \n",
              "48 JARBAS DE ANDRADE VASCONCELOS           MDB          \n",
              "49 MARCELO COSTA E CASTRO                  MDB          \n",
              "50 CONFUCIO AIRES MOURA                    MDB          \n",
              "51 JAYME VERISSIMO DE CAMPOS               DEM          \n",
              "52 RODRIGO OTÁVIO SOARES PACHECO           DEM          \n",
              "53 MARCOS ROGÉRIO DA SILVA BRITO           DEM          \n",
              "54 FRANCISCO DE ASSIS RODRIGUES            DEM          "
            ]
          },
          "metadata": {}
        }
      ]
    },
    {
      "cell_type": "code",
      "source": [
        "#Quantos senadores tinha cada partido?\n",
        "quantidade_partido <- NomesPartido %>% group_by(partido_sigla) %>% count()\n",
        "quantidade_partido <- quantidade_partido %>% arrange(desc(n))\n",
        "quantidade_partido"
      ],
      "metadata": {
        "id": "sCP1KxsnXJXl",
        "colab": {
          "base_uri": "https://localhost:8080/",
          "height": 725
        },
        "collapsed": true,
        "outputId": "5242ab73-e136-453b-f41c-b75dcdae8286"
      },
      "execution_count": 20,
      "outputs": [
        {
          "output_type": "display_data",
          "data": {
            "text/html": [
              "<table class=\"dataframe\">\n",
              "<caption>A grouped_df: 20 × 2</caption>\n",
              "<thead>\n",
              "\t<tr><th scope=col>partido_sigla</th><th scope=col>n</th></tr>\n",
              "\t<tr><th scope=col>&lt;chr&gt;</th><th scope=col>&lt;int&gt;</th></tr>\n",
              "</thead>\n",
              "<tbody>\n",
              "\t<tr><td>MDB          </td><td>7</td></tr>\n",
              "\t<tr><td>PP           </td><td>5</td></tr>\n",
              "\t<tr><td>REDE         </td><td>5</td></tr>\n",
              "\t<tr><td>DEM          </td><td>4</td></tr>\n",
              "\t<tr><td>PSD          </td><td>4</td></tr>\n",
              "\t<tr><td>PSDB         </td><td>4</td></tr>\n",
              "\t<tr><td>PSL          </td><td>4</td></tr>\n",
              "\t<tr><td>PT           </td><td>4</td></tr>\n",
              "\t<tr><td>PDT          </td><td>2</td></tr>\n",
              "\t<tr><td>PHS          </td><td>2</td></tr>\n",
              "\t<tr><td>PPS          </td><td>2</td></tr>\n",
              "\t<tr><td>PSB          </td><td>2</td></tr>\n",
              "\t<tr><td>PTB          </td><td>2</td></tr>\n",
              "\t<tr><td>PODE         </td><td>1</td></tr>\n",
              "\t<tr><td>PR           </td><td>1</td></tr>\n",
              "\t<tr><td>PRB          </td><td>1</td></tr>\n",
              "\t<tr><td>PROS         </td><td>1</td></tr>\n",
              "\t<tr><td>PRP          </td><td>1</td></tr>\n",
              "\t<tr><td>PSC          </td><td>1</td></tr>\n",
              "\t<tr><td>SOLIDARIEDADE</td><td>1</td></tr>\n",
              "</tbody>\n",
              "</table>\n"
            ],
            "text/markdown": "\nA grouped_df: 20 × 2\n\n| partido_sigla &lt;chr&gt; | n &lt;int&gt; |\n|---|---|\n| MDB           | 7 |\n| PP            | 5 |\n| REDE          | 5 |\n| DEM           | 4 |\n| PSD           | 4 |\n| PSDB          | 4 |\n| PSL           | 4 |\n| PT            | 4 |\n| PDT           | 2 |\n| PHS           | 2 |\n| PPS           | 2 |\n| PSB           | 2 |\n| PTB           | 2 |\n| PODE          | 1 |\n| PR            | 1 |\n| PRB           | 1 |\n| PROS          | 1 |\n| PRP           | 1 |\n| PSC           | 1 |\n| SOLIDARIEDADE | 1 |\n\n",
            "text/latex": "A grouped\\_df: 20 × 2\n\\begin{tabular}{ll}\n partido\\_sigla & n\\\\\n <chr> & <int>\\\\\n\\hline\n\t MDB           & 7\\\\\n\t PP            & 5\\\\\n\t REDE          & 5\\\\\n\t DEM           & 4\\\\\n\t PSD           & 4\\\\\n\t PSDB          & 4\\\\\n\t PSL           & 4\\\\\n\t PT            & 4\\\\\n\t PDT           & 2\\\\\n\t PHS           & 2\\\\\n\t PPS           & 2\\\\\n\t PSB           & 2\\\\\n\t PTB           & 2\\\\\n\t PODE          & 1\\\\\n\t PR            & 1\\\\\n\t PRB           & 1\\\\\n\t PROS          & 1\\\\\n\t PRP           & 1\\\\\n\t PSC           & 1\\\\\n\t SOLIDARIEDADE & 1\\\\\n\\end{tabular}\n",
            "text/plain": [
              "   partido_sigla n\n",
              "1  MDB           7\n",
              "2  PP            5\n",
              "3  REDE          5\n",
              "4  DEM           4\n",
              "5  PSD           4\n",
              "6  PSDB          4\n",
              "7  PSL           4\n",
              "8  PT            4\n",
              "9  PDT           2\n",
              "10 PHS           2\n",
              "11 PPS           2\n",
              "12 PSB           2\n",
              "13 PTB           2\n",
              "14 PODE          1\n",
              "15 PR            1\n",
              "16 PRB           1\n",
              "17 PROS          1\n",
              "18 PRP           1\n",
              "19 PSC           1\n",
              "20 SOLIDARIEDADE 1"
            ]
          },
          "metadata": {}
        }
      ]
    },
    {
      "cell_type": "code",
      "source": [
        "#Qual partido tem mais?\n",
        "partido_maior <- quantidade_partido %>% filter(n == max(quantidade_partido$n))\n",
        "print(partido_maior)"
      ],
      "metadata": {
        "colab": {
          "base_uri": "https://localhost:8080/"
        },
        "id": "IUnQgRhPo-u-",
        "outputId": "ea236846-7177-445c-a689-ed1ef0cbc61b"
      },
      "execution_count": 11,
      "outputs": [
        {
          "output_type": "stream",
          "name": "stdout",
          "text": [
            "\u001b[90m# A tibble: 1 × 2\u001b[39m\n",
            "\u001b[90m# Groups:   partido_sigla [1]\u001b[39m\n",
            "  partido_sigla     n\n",
            "  \u001b[3m\u001b[90m<chr>\u001b[39m\u001b[23m         \u001b[3m\u001b[90m<int>\u001b[39m\u001b[23m\n",
            "\u001b[90m1\u001b[39m MDB               7\n"
          ]
        }
      ]
    },
    {
      "cell_type": "code",
      "source": [
        "#Qual tem menos?\n",
        "partido_menor <- quantidade_partido %>% filter(n == min(quantidade_partido$n))\n",
        "print(partido_menor)"
      ],
      "metadata": {
        "colab": {
          "base_uri": "https://localhost:8080/"
        },
        "collapsed": true,
        "id": "3h6xyXY0olNM",
        "outputId": "06592354-9c75-4bc4-9915-7ac4d1fcaaaa"
      },
      "execution_count": 12,
      "outputs": [
        {
          "output_type": "stream",
          "name": "stdout",
          "text": [
            "\u001b[90m# A tibble: 7 × 2\u001b[39m\n",
            "\u001b[90m# Groups:   partido_sigla [7]\u001b[39m\n",
            "  partido_sigla     n\n",
            "  \u001b[3m\u001b[90m<chr>\u001b[39m\u001b[23m         \u001b[3m\u001b[90m<int>\u001b[39m\u001b[23m\n",
            "\u001b[90m1\u001b[39m PODE              1\n",
            "\u001b[90m2\u001b[39m PR                1\n",
            "\u001b[90m3\u001b[39m PRB               1\n",
            "\u001b[90m4\u001b[39m PROS              1\n",
            "\u001b[90m5\u001b[39m PRP               1\n",
            "\u001b[90m6\u001b[39m PSC               1\n",
            "\u001b[90m7\u001b[39m SOLIDARIEDADE     1\n"
          ]
        }
      ]
    },
    {
      "cell_type": "code",
      "source": [
        "#Quantas mulheres e quantos homens estão no senado?\n",
        "num_homens <- senado %>% select(descricaoSexo) %>% group_by(descricaoSexo) %>% count()\n",
        "print(num_homens)"
      ],
      "metadata": {
        "colab": {
          "base_uri": "https://localhost:8080/"
        },
        "id": "8g7Q5eFmqxqr",
        "outputId": "6fb41d2e-104f-47cc-c1e0-35dd887e92fa"
      },
      "execution_count": 13,
      "outputs": [
        {
          "output_type": "stream",
          "name": "stdout",
          "text": [
            "\u001b[90m# A tibble: 2 × 2\u001b[39m\n",
            "\u001b[90m# Groups:   descricaoSexo [2]\u001b[39m\n",
            "  descricaoSexo     n\n",
            "  \u001b[3m\u001b[90m<chr>\u001b[39m\u001b[23m         \u001b[3m\u001b[90m<int>\u001b[39m\u001b[23m\n",
            "\u001b[90m1\u001b[39m FEM.              7\n",
            "\u001b[90m2\u001b[39m MASC.            47\n"
          ]
        }
      ]
    },
    {
      "cell_type": "code",
      "source": [
        "#Qual senador teve maior gasto em campanha?\n",
        "maior_gasto <- senado %>% select(nomeUrna, gastoCampanha1T)\n",
        "maior_gasto <- maior_gasto %>% arrange(maior_gasto)\n",
        "maior <- maior_gasto %>% filter(gastoCampanha1T == max(maior_gasto$gastoCampanha1T))\n",
        "print(maior)"
      ],
      "metadata": {
        "colab": {
          "base_uri": "https://localhost:8080/"
        },
        "id": "qtqIWUayjV8W",
        "outputId": "79242b45-49d5-4220-f2f9-9eb9f4e7a145"
      },
      "execution_count": 14,
      "outputs": [
        {
          "output_type": "stream",
          "name": "stdout",
          "text": [
            "       nomeUrna gastoCampanha1T\n",
            "1 MAJOR OLIMPIO         5600000\n",
            "2 MARA GABRILLI         5600000\n"
          ]
        }
      ]
    },
    {
      "cell_type": "code",
      "source": [
        "#Qual o gasto total por partido?\n",
        "gasto_total_por_partido <- senado %>% select(partido_sigla, gastoCampanha1T)\n",
        "gasto_total_por_partido <- gasto_total_por_partido %>% arrange(desc(gasto_total_por_partido))\n",
        "gasto_total_por_partido <- gasto_total_por_partido %>% group_by(partido_sigla) %>% summarize(gastoCampanha1T = sum(gastoCampanha1T))\n",
        "gasto_total_por_partido <- gasto_total_por_partido %>% arrange(desc(gastoCampanha1T))\n",
        "print(gasto_total_por_partido)"
      ],
      "metadata": {
        "colab": {
          "base_uri": "https://localhost:8080/"
        },
        "id": "Hk_BuCwJtHyb",
        "outputId": "e9129bc6-59e3-4713-d7b3-8e96003f1bae"
      },
      "execution_count": 15,
      "outputs": [
        {
          "output_type": "stream",
          "name": "stdout",
          "text": [
            "\u001b[90m# A tibble: 20 × 2\u001b[39m\n",
            "   partido_sigla gastoCampanha1T\n",
            "   \u001b[3m\u001b[90m<chr>\u001b[39m\u001b[23m                   \u001b[3m\u001b[90m<int>\u001b[39m\u001b[23m\n",
            "\u001b[90m 1\u001b[39m MDB                  21\u001b[4m0\u001b[24m\u001b[4m0\u001b[24m\u001b[4m0\u001b[24m000\n",
            "\u001b[90m 2\u001b[39m PP                   16\u001b[4m5\u001b[24m\u001b[4m0\u001b[24m\u001b[4m0\u001b[24m000\n",
            "\u001b[90m 3\u001b[39m PSL                  15\u001b[4m3\u001b[24m\u001b[4m0\u001b[24m\u001b[4m0\u001b[24m000\n",
            "\u001b[90m 4\u001b[39m PSDB                 14\u001b[4m6\u001b[24m\u001b[4m0\u001b[24m\u001b[4m0\u001b[24m000\n",
            "\u001b[90m 5\u001b[39m REDE                 14\u001b[4m5\u001b[24m\u001b[4m0\u001b[24m\u001b[4m0\u001b[24m000\n",
            "\u001b[90m 6\u001b[39m PT                   13\u001b[4m7\u001b[24m\u001b[4m0\u001b[24m\u001b[4m0\u001b[24m000\n",
            "\u001b[90m 7\u001b[39m PSD                  13\u001b[4m4\u001b[24m\u001b[4m0\u001b[24m\u001b[4m0\u001b[24m000\n",
            "\u001b[90m 8\u001b[39m DEM                  12\u001b[4m2\u001b[24m\u001b[4m0\u001b[24m\u001b[4m0\u001b[24m000\n",
            "\u001b[90m 9\u001b[39m PHS                   7\u001b[4m2\u001b[24m\u001b[4m0\u001b[24m\u001b[4m0\u001b[24m000\n",
            "\u001b[90m10\u001b[39m PDT                   7\u001b[4m0\u001b[24m\u001b[4m0\u001b[24m\u001b[4m0\u001b[24m000\n",
            "\u001b[90m11\u001b[39m PPS                   6\u001b[4m5\u001b[24m\u001b[4m0\u001b[24m\u001b[4m0\u001b[24m000\n",
            "\u001b[90m12\u001b[39m PSB                   6\u001b[4m0\u001b[24m\u001b[4m0\u001b[24m\u001b[4m0\u001b[24m000\n",
            "\u001b[90m13\u001b[39m PTB                   5\u001b[4m0\u001b[24m\u001b[4m0\u001b[24m\u001b[4m0\u001b[24m000\n",
            "\u001b[90m14\u001b[39m PODE                  3\u001b[4m5\u001b[24m\u001b[4m0\u001b[24m\u001b[4m0\u001b[24m000\n",
            "\u001b[90m15\u001b[39m PR                    3\u001b[4m5\u001b[24m\u001b[4m0\u001b[24m\u001b[4m0\u001b[24m000\n",
            "\u001b[90m16\u001b[39m PROS                  3\u001b[4m5\u001b[24m\u001b[4m0\u001b[24m\u001b[4m0\u001b[24m000\n",
            "\u001b[90m17\u001b[39m PRP                   3\u001b[4m5\u001b[24m\u001b[4m0\u001b[24m\u001b[4m0\u001b[24m000\n",
            "\u001b[90m18\u001b[39m PSC                   3\u001b[4m5\u001b[24m\u001b[4m0\u001b[24m\u001b[4m0\u001b[24m000\n",
            "\u001b[90m19\u001b[39m PRB                   2\u001b[4m5\u001b[24m\u001b[4m0\u001b[24m\u001b[4m0\u001b[24m000\n",
            "\u001b[90m20\u001b[39m SOLIDARIEDADE         2\u001b[4m5\u001b[24m\u001b[4m0\u001b[24m\u001b[4m0\u001b[24m000\n"
          ]
        }
      ]
    },
    {
      "cell_type": "code",
      "source": [
        "#Quais partidos tiveram maior gasto em campanha? Mostrar o(s) partido(s) com o maior valor.\n",
        "print(head(gasto_total_por_partido))"
      ],
      "metadata": {
        "colab": {
          "base_uri": "https://localhost:8080/"
        },
        "id": "HQri7KnHu8Ba",
        "outputId": "664f87f5-1c7d-4545-a7da-1ed9ad8b5a68"
      },
      "execution_count": 16,
      "outputs": [
        {
          "output_type": "stream",
          "name": "stdout",
          "text": [
            "\u001b[90m# A tibble: 6 × 2\u001b[39m\n",
            "  partido_sigla gastoCampanha1T\n",
            "  \u001b[3m\u001b[90m<chr>\u001b[39m\u001b[23m                   \u001b[3m\u001b[90m<int>\u001b[39m\u001b[23m\n",
            "\u001b[90m1\u001b[39m MDB                  21\u001b[4m0\u001b[24m\u001b[4m0\u001b[24m\u001b[4m0\u001b[24m000\n",
            "\u001b[90m2\u001b[39m PP                   16\u001b[4m5\u001b[24m\u001b[4m0\u001b[24m\u001b[4m0\u001b[24m000\n",
            "\u001b[90m3\u001b[39m PSL                  15\u001b[4m3\u001b[24m\u001b[4m0\u001b[24m\u001b[4m0\u001b[24m000\n",
            "\u001b[90m4\u001b[39m PSDB                 14\u001b[4m6\u001b[24m\u001b[4m0\u001b[24m\u001b[4m0\u001b[24m000\n",
            "\u001b[90m5\u001b[39m REDE                 14\u001b[4m5\u001b[24m\u001b[4m0\u001b[24m\u001b[4m0\u001b[24m000\n",
            "\u001b[90m6\u001b[39m PT                   13\u001b[4m7\u001b[24m\u001b[4m0\u001b[24m\u001b[4m0\u001b[24m000\n"
          ]
        }
      ]
    },
    {
      "cell_type": "code",
      "source": [
        "#Qual a média de gastos de campanha por estado?\n",
        "media_por_estado <- senado %>% select(ufCandidatura, partido_sigla, gastoCampanha1T)\n",
        "media_por_estado %>% group_by(ufCandidatura) %>% summarize(media = mean(gastoCampanha1T))"
      ],
      "metadata": {
        "colab": {
          "base_uri": "https://localhost:8080/",
          "height": 945
        },
        "collapsed": true,
        "id": "3jBlV9eXvcTa",
        "outputId": "982d9d11-b14b-4677-d6dd-8eb8b0e55e63"
      },
      "execution_count": 17,
      "outputs": [
        {
          "output_type": "display_data",
          "data": {
            "text/html": [
              "<table class=\"dataframe\">\n",
              "<caption>A tibble: 27 × 2</caption>\n",
              "<thead>\n",
              "\t<tr><th scope=col>ufCandidatura</th><th scope=col>media</th></tr>\n",
              "\t<tr><th scope=col>&lt;chr&gt;</th><th scope=col>&lt;dbl&gt;</th></tr>\n",
              "</thead>\n",
              "<tbody>\n",
              "\t<tr><td>AC</td><td>2500000</td></tr>\n",
              "\t<tr><td>AL</td><td>3000000</td></tr>\n",
              "\t<tr><td>AM</td><td>3000000</td></tr>\n",
              "\t<tr><td>AP</td><td>2500000</td></tr>\n",
              "\t<tr><td>BA</td><td>4200000</td></tr>\n",
              "\t<tr><td>CE</td><td>3500000</td></tr>\n",
              "\t<tr><td>DF</td><td>3000000</td></tr>\n",
              "\t<tr><td>ES</td><td>3000000</td></tr>\n",
              "\t<tr><td>GO</td><td>3500000</td></tr>\n",
              "\t<tr><td>MA</td><td>3500000</td></tr>\n",
              "\t<tr><td>MG</td><td>4200000</td></tr>\n",
              "\t<tr><td>MS</td><td>2500000</td></tr>\n",
              "\t<tr><td>MT</td><td>3000000</td></tr>\n",
              "\t<tr><td>PA</td><td>3500000</td></tr>\n",
              "\t<tr><td>PB</td><td>3000000</td></tr>\n",
              "\t<tr><td>PE</td><td>3500000</td></tr>\n",
              "\t<tr><td>PI</td><td>3000000</td></tr>\n",
              "\t<tr><td>PR</td><td>3500000</td></tr>\n",
              "\t<tr><td>RJ</td><td>4200000</td></tr>\n",
              "\t<tr><td>RN</td><td>3000000</td></tr>\n",
              "\t<tr><td>RO</td><td>2500000</td></tr>\n",
              "\t<tr><td>RR</td><td>2500000</td></tr>\n",
              "\t<tr><td>RS</td><td>3500000</td></tr>\n",
              "\t<tr><td>SC</td><td>3500000</td></tr>\n",
              "\t<tr><td>SE</td><td>2500000</td></tr>\n",
              "\t<tr><td>SP</td><td>5600000</td></tr>\n",
              "\t<tr><td>TO</td><td>2500000</td></tr>\n",
              "</tbody>\n",
              "</table>\n"
            ],
            "text/markdown": "\nA tibble: 27 × 2\n\n| ufCandidatura &lt;chr&gt; | media &lt;dbl&gt; |\n|---|---|\n| AC | 2500000 |\n| AL | 3000000 |\n| AM | 3000000 |\n| AP | 2500000 |\n| BA | 4200000 |\n| CE | 3500000 |\n| DF | 3000000 |\n| ES | 3000000 |\n| GO | 3500000 |\n| MA | 3500000 |\n| MG | 4200000 |\n| MS | 2500000 |\n| MT | 3000000 |\n| PA | 3500000 |\n| PB | 3000000 |\n| PE | 3500000 |\n| PI | 3000000 |\n| PR | 3500000 |\n| RJ | 4200000 |\n| RN | 3000000 |\n| RO | 2500000 |\n| RR | 2500000 |\n| RS | 3500000 |\n| SC | 3500000 |\n| SE | 2500000 |\n| SP | 5600000 |\n| TO | 2500000 |\n\n",
            "text/latex": "A tibble: 27 × 2\n\\begin{tabular}{ll}\n ufCandidatura & media\\\\\n <chr> & <dbl>\\\\\n\\hline\n\t AC & 2500000\\\\\n\t AL & 3000000\\\\\n\t AM & 3000000\\\\\n\t AP & 2500000\\\\\n\t BA & 4200000\\\\\n\t CE & 3500000\\\\\n\t DF & 3000000\\\\\n\t ES & 3000000\\\\\n\t GO & 3500000\\\\\n\t MA & 3500000\\\\\n\t MG & 4200000\\\\\n\t MS & 2500000\\\\\n\t MT & 3000000\\\\\n\t PA & 3500000\\\\\n\t PB & 3000000\\\\\n\t PE & 3500000\\\\\n\t PI & 3000000\\\\\n\t PR & 3500000\\\\\n\t RJ & 4200000\\\\\n\t RN & 3000000\\\\\n\t RO & 2500000\\\\\n\t RR & 2500000\\\\\n\t RS & 3500000\\\\\n\t SC & 3500000\\\\\n\t SE & 2500000\\\\\n\t SP & 5600000\\\\\n\t TO & 2500000\\\\\n\\end{tabular}\n",
            "text/plain": [
              "   ufCandidatura media  \n",
              "1  AC            2500000\n",
              "2  AL            3000000\n",
              "3  AM            3000000\n",
              "4  AP            2500000\n",
              "5  BA            4200000\n",
              "6  CE            3500000\n",
              "7  DF            3000000\n",
              "8  ES            3000000\n",
              "9  GO            3500000\n",
              "10 MA            3500000\n",
              "11 MG            4200000\n",
              "12 MS            2500000\n",
              "13 MT            3000000\n",
              "14 PA            3500000\n",
              "15 PB            3000000\n",
              "16 PE            3500000\n",
              "17 PI            3000000\n",
              "18 PR            3500000\n",
              "19 RJ            4200000\n",
              "20 RN            3000000\n",
              "21 RO            2500000\n",
              "22 RR            2500000\n",
              "23 RS            3500000\n",
              "24 SC            3500000\n",
              "25 SE            2500000\n",
              "26 SP            5600000\n",
              "27 TO            2500000"
            ]
          },
          "metadata": {}
        }
      ]
    },
    {
      "cell_type": "code",
      "source": [
        "#Quais os estados que os senadores nasceram? Mostre a quantidade de senadores por estado de nascimento.\n",
        "nasc_estados <- senado %>% select(sgUfNascimento) %>% group_by(sgUfNascimento) %>% count()\n",
        "nasc_estados"
      ],
      "metadata": {
        "colab": {
          "base_uri": "https://localhost:8080/",
          "height": 882
        },
        "id": "j6vQZHlqwI7I",
        "outputId": "f8a0a56e-7ddc-45eb-84e2-5c665a8dd2ba",
        "collapsed": true
      },
      "execution_count": 18,
      "outputs": [
        {
          "output_type": "display_data",
          "data": {
            "text/html": [
              "<table class=\"dataframe\">\n",
              "<caption>A grouped_df: 25 × 2</caption>\n",
              "<thead>\n",
              "\t<tr><th scope=col>sgUfNascimento</th><th scope=col>n</th></tr>\n",
              "\t<tr><th scope=col>&lt;chr&gt;</th><th scope=col>&lt;int&gt;</th></tr>\n",
              "</thead>\n",
              "<tbody>\n",
              "\t<tr><td>AC</td><td>2</td></tr>\n",
              "\t<tr><td>AL</td><td>2</td></tr>\n",
              "\t<tr><td>AM</td><td>1</td></tr>\n",
              "\t<tr><td>AP</td><td>1</td></tr>\n",
              "\t<tr><td>BA</td><td>1</td></tr>\n",
              "\t<tr><td>CE</td><td>2</td></tr>\n",
              "\t<tr><td>DF</td><td>1</td></tr>\n",
              "\t<tr><td>ES</td><td>2</td></tr>\n",
              "\t<tr><td>GO</td><td>2</td></tr>\n",
              "\t<tr><td>MA</td><td>3</td></tr>\n",
              "\t<tr><td>MG</td><td>2</td></tr>\n",
              "\t<tr><td>MS</td><td>2</td></tr>\n",
              "\t<tr><td>MT</td><td>1</td></tr>\n",
              "\t<tr><td>PA</td><td>3</td></tr>\n",
              "\t<tr><td>PB</td><td>3</td></tr>\n",
              "\t<tr><td>PE</td><td>3</td></tr>\n",
              "\t<tr><td>PI</td><td>2</td></tr>\n",
              "\t<tr><td>PR</td><td>1</td></tr>\n",
              "\t<tr><td>RJ</td><td>2</td></tr>\n",
              "\t<tr><td>RO</td><td>2</td></tr>\n",
              "\t<tr><td>RS</td><td>5</td></tr>\n",
              "\t<tr><td>SC</td><td>2</td></tr>\n",
              "\t<tr><td>SE</td><td>1</td></tr>\n",
              "\t<tr><td>SP</td><td>6</td></tr>\n",
              "\t<tr><td>TO</td><td>2</td></tr>\n",
              "</tbody>\n",
              "</table>\n"
            ],
            "text/markdown": "\nA grouped_df: 25 × 2\n\n| sgUfNascimento &lt;chr&gt; | n &lt;int&gt; |\n|---|---|\n| AC | 2 |\n| AL | 2 |\n| AM | 1 |\n| AP | 1 |\n| BA | 1 |\n| CE | 2 |\n| DF | 1 |\n| ES | 2 |\n| GO | 2 |\n| MA | 3 |\n| MG | 2 |\n| MS | 2 |\n| MT | 1 |\n| PA | 3 |\n| PB | 3 |\n| PE | 3 |\n| PI | 2 |\n| PR | 1 |\n| RJ | 2 |\n| RO | 2 |\n| RS | 5 |\n| SC | 2 |\n| SE | 1 |\n| SP | 6 |\n| TO | 2 |\n\n",
            "text/latex": "A grouped\\_df: 25 × 2\n\\begin{tabular}{ll}\n sgUfNascimento & n\\\\\n <chr> & <int>\\\\\n\\hline\n\t AC & 2\\\\\n\t AL & 2\\\\\n\t AM & 1\\\\\n\t AP & 1\\\\\n\t BA & 1\\\\\n\t CE & 2\\\\\n\t DF & 1\\\\\n\t ES & 2\\\\\n\t GO & 2\\\\\n\t MA & 3\\\\\n\t MG & 2\\\\\n\t MS & 2\\\\\n\t MT & 1\\\\\n\t PA & 3\\\\\n\t PB & 3\\\\\n\t PE & 3\\\\\n\t PI & 2\\\\\n\t PR & 1\\\\\n\t RJ & 2\\\\\n\t RO & 2\\\\\n\t RS & 5\\\\\n\t SC & 2\\\\\n\t SE & 1\\\\\n\t SP & 6\\\\\n\t TO & 2\\\\\n\\end{tabular}\n",
            "text/plain": [
              "   sgUfNascimento n\n",
              "1  AC             2\n",
              "2  AL             2\n",
              "3  AM             1\n",
              "4  AP             1\n",
              "5  BA             1\n",
              "6  CE             2\n",
              "7  DF             1\n",
              "8  ES             2\n",
              "9  GO             2\n",
              "10 MA             3\n",
              "11 MG             2\n",
              "12 MS             2\n",
              "13 MT             1\n",
              "14 PA             3\n",
              "15 PB             3\n",
              "16 PE             3\n",
              "17 PI             2\n",
              "18 PR             1\n",
              "19 RJ             2\n",
              "20 RO             2\n",
              "21 RS             5\n",
              "22 SC             2\n",
              "23 SE             1\n",
              "24 SP             6\n",
              "25 TO             2"
            ]
          },
          "metadata": {}
        }
      ]
    },
    {
      "cell_type": "code",
      "source": [
        "#Quais partidos mais elegeram candidatos (3 primeiros)?\n",
        "head(quantidade_partido, 3)"
      ],
      "metadata": {
        "colab": {
          "base_uri": "https://localhost:8080/",
          "height": 192
        },
        "id": "C_hCJtrITMRy",
        "outputId": "38ea09c9-e8c7-4bbf-9fa4-5e05087fe673"
      },
      "execution_count": 22,
      "outputs": [
        {
          "output_type": "display_data",
          "data": {
            "text/html": [
              "<table class=\"dataframe\">\n",
              "<caption>A grouped_df: 3 × 2</caption>\n",
              "<thead>\n",
              "\t<tr><th scope=col>partido_sigla</th><th scope=col>n</th></tr>\n",
              "\t<tr><th scope=col>&lt;chr&gt;</th><th scope=col>&lt;int&gt;</th></tr>\n",
              "</thead>\n",
              "<tbody>\n",
              "\t<tr><td>MDB </td><td>7</td></tr>\n",
              "\t<tr><td>PP  </td><td>5</td></tr>\n",
              "\t<tr><td>REDE</td><td>5</td></tr>\n",
              "</tbody>\n",
              "</table>\n"
            ],
            "text/markdown": "\nA grouped_df: 3 × 2\n\n| partido_sigla &lt;chr&gt; | n &lt;int&gt; |\n|---|---|\n| MDB  | 7 |\n| PP   | 5 |\n| REDE | 5 |\n\n",
            "text/latex": "A grouped\\_df: 3 × 2\n\\begin{tabular}{ll}\n partido\\_sigla & n\\\\\n <chr> & <int>\\\\\n\\hline\n\t MDB  & 7\\\\\n\t PP   & 5\\\\\n\t REDE & 5\\\\\n\\end{tabular}\n",
            "text/plain": [
              "  partido_sigla n\n",
              "1 MDB           7\n",
              "2 PP            5\n",
              "3 REDE          5"
            ]
          },
          "metadata": {}
        }
      ]
    },
    {
      "cell_type": "code",
      "source": [
        "#Qual a quantidade de senadores agrupados por raça?\n",
        "raca <- senado %>% select(descricaoCorRaca)\n",
        "raca <- raca %>% group_by(descricaoCorRaca) %>% count()\n",
        "print(raca)"
      ],
      "metadata": {
        "colab": {
          "base_uri": "https://localhost:8080/"
        },
        "id": "vKeXuZfHT34P",
        "outputId": "47a6f5a1-89fe-4934-8f72-b87cb8018ad3"
      },
      "execution_count": 38,
      "outputs": [
        {
          "output_type": "stream",
          "name": "stdout",
          "text": [
            "\u001b[90m# A tibble: 3 × 2\u001b[39m\n",
            "\u001b[90m# Groups:   descricaoCorRaca [3]\u001b[39m\n",
            "  descricaoCorRaca     n\n",
            "  \u001b[3m\u001b[90m<chr>\u001b[39m\u001b[23m            \u001b[3m\u001b[90m<int>\u001b[39m\u001b[23m\n",
            "\u001b[90m1\u001b[39m BRANCA              40\n",
            "\u001b[90m2\u001b[39m PARDA               11\n",
            "\u001b[90m3\u001b[39m PRETA                3\n"
          ]
        }
      ]
    },
    {
      "cell_type": "code",
      "source": [
        "#E pela profissão?\n",
        "profissao <- senado %>% select(ocupacao)\n",
        "profissao <- profissao %>% group_by(ocupacao) %>% count()\n",
        "print(profissao)"
      ],
      "metadata": {
        "colab": {
          "base_uri": "https://localhost:8080/"
        },
        "collapsed": true,
        "id": "abEGChuSUXhg",
        "outputId": "adf868a7-a98d-4a57-e0db-830ce92ed92c"
      },
      "execution_count": 37,
      "outputs": [
        {
          "output_type": "stream",
          "name": "stdout",
          "text": [
            "\u001b[90m# A tibble: 20 × 2\u001b[39m\n",
            "\u001b[90m# Groups:   ocupacao [20]\u001b[39m\n",
            "   ocupacao                                                   n\n",
            "   \u001b[3m\u001b[90m<chr>\u001b[39m\u001b[23m                                                  \u001b[3m\u001b[90m<int>\u001b[39m\u001b[23m\n",
            "\u001b[90m 1\u001b[39m Administrador                                              1\n",
            "\u001b[90m 2\u001b[39m Advogado                                                   3\n",
            "\u001b[90m 3\u001b[39m Aposentado (Exceto Servidor Público)                       1\n",
            "\u001b[90m 4\u001b[39m Atleta Profissional e Técnico em Desportos                 1\n",
            "\u001b[90m 5\u001b[39m Deputado                                                  15\n",
            "\u001b[90m 6\u001b[39m Empresário                                                 5\n",
            "\u001b[90m 7\u001b[39m Engenheiro                                                 2\n",
            "\u001b[90m 8\u001b[39m Historiador                                                1\n",
            "\u001b[90m 9\u001b[39m Industrial                                                 1\n",
            "\u001b[90m10\u001b[39m Jornaleiro                                                 1\n",
            "\u001b[90m11\u001b[39m Jornalista e Redator                                       2\n",
            "\u001b[90m12\u001b[39m Médico                                                     2\n",
            "\u001b[90m13\u001b[39m Outros                                                     2\n",
            "\u001b[90m14\u001b[39m Pedagogo                                                   2\n",
            "\u001b[90m15\u001b[39m Policial Civil                                             2\n",
            "\u001b[90m16\u001b[39m Policial Militar                                           1\n",
            "\u001b[90m17\u001b[39m Professor de Ensino Superior                               2\n",
            "\u001b[90m18\u001b[39m Senador                                                    8\n",
            "\u001b[90m19\u001b[39m Técnico de Eletricidade, Eletrônica e Telecomunicações     1\n",
            "\u001b[90m20\u001b[39m Vereador                                                   1\n"
          ]
        }
      ]
    },
    {
      "cell_type": "code",
      "source": [
        "#Apresente a quantidade de senadores agrupada por grau de instrução.\n",
        "grau <- senado %>% select(grauInstrucao)\n",
        "grau <- grau %>% group_by(grauInstrucao) %>% count()\n",
        "print(grau)"
      ],
      "metadata": {
        "colab": {
          "base_uri": "https://localhost:8080/"
        },
        "id": "WKUVmzYXVORK",
        "outputId": "0b0cdd05-507b-45f4-d770-1f523282e74f"
      },
      "execution_count": 39,
      "outputs": [
        {
          "output_type": "stream",
          "name": "stdout",
          "text": [
            "\u001b[90m# A tibble: 4 × 2\u001b[39m\n",
            "\u001b[90m# Groups:   grauInstrucao [4]\u001b[39m\n",
            "  grauInstrucao                     n\n",
            "  \u001b[3m\u001b[90m<chr>\u001b[39m\u001b[23m                         \u001b[3m\u001b[90m<int>\u001b[39m\u001b[23m\n",
            "\u001b[90m1\u001b[39m Ensino Fundamental incompleto     1\n",
            "\u001b[90m2\u001b[39m Ensino Médio completo             8\n",
            "\u001b[90m3\u001b[39m Superior completo                43\n",
            "\u001b[90m4\u001b[39m Superior incompleto               2\n"
          ]
        }
      ]
    },
    {
      "cell_type": "code",
      "source": [
        "#Apresente a quantidade de senadores agrupada por estado civil.\n",
        "estadoCivil <- senado %>% select(descricaoEstadoCivil)\n",
        "estadoCivil <- estadoCivil %>% group_by(descricaoEstadoCivil) %>% count()\n",
        "print(estadoCivil)"
      ],
      "metadata": {
        "colab": {
          "base_uri": "https://localhost:8080/"
        },
        "id": "W0hxA3aqV1q3",
        "outputId": "9d88d69f-bcbc-4f31-e5df-48583baddc75"
      },
      "execution_count": 41,
      "outputs": [
        {
          "output_type": "stream",
          "name": "stdout",
          "text": [
            "\u001b[90m# A tibble: 4 × 2\u001b[39m\n",
            "\u001b[90m# Groups:   descricaoEstadoCivil [4]\u001b[39m\n",
            "  descricaoEstadoCivil          n\n",
            "  \u001b[3m\u001b[90m<chr>\u001b[39m\u001b[23m                     \u001b[3m\u001b[90m<int>\u001b[39m\u001b[23m\n",
            "\u001b[90m1\u001b[39m Casado(a)                    43\n",
            "\u001b[90m2\u001b[39m Divorciado(a)                 9\n",
            "\u001b[90m3\u001b[39m Separado(a) judicialmente     1\n",
            "\u001b[90m4\u001b[39m Solteiro(a)                   1\n"
          ]
        }
      ]
    }
  ]
}